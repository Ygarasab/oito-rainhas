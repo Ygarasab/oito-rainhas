{
 "cells": [
  {
   "cell_type": "markdown",
   "metadata": {},
   "source": [
    "Este trabalho é referente à disciplina de Inteligência Artificial do curso de Bacharelado em Ciência da Computação na Universidade Federal do Pará. Ele propõe a implementação de uma versão do algoritmo **_Stochastic Hill Climbing_** (**_Simulated Annealing_**) e do **_Genetic Algorithm_** para a resolução do **problema das oito rainhas**.\n",
    "\n",
    "Integrantes:\n",
    "\n",
    "- [201804940002] Eduardo Gil Serrão Cardoso\n",
    "- [201804940016] Gabriela Souza Maximino\n",
    "- [201704940007] Igor Matheus Souza Moreira\n",
    "\n",
    "As questões propostas pelo trabalho são citadas e respondidas abaixo. Antes de interagir com o código no Jupyter Notebook/Lab, observe que certas células anteriores à que se quer executar podem ser necessárias. A fim de evitar isso, certifique-se de executar ao menos uma vez todas as células contendo definições de funções ou importações de módulos."
   ]
  },
  {
   "cell_type": "markdown",
   "metadata": {},
   "source": [
    "# Requisitos"
   ]
  },
  {
   "cell_type": "markdown",
   "metadata": {},
   "source": [
    "## Ambiente"
   ]
  },
  {
   "cell_type": "markdown",
   "metadata": {},
   "source": [
    "Este trabalho foi feito utilizando a seguinte linguagem de programação:\n",
    "\n",
    "- `python` 3.8.5\n",
    "\n",
    "Em adição, os seguintes módulos precisam estar instalados no ambiente em que este notebook for executado:\n",
    "\n",
    "- `ipypublish` 0.10.12\n",
    "- `matplotlib` 3.3.2\n",
    "- `numpy` 1.19.2\n",
    "- `pandas` 1.1.4\n",
    "- `seaborn` 0.11.0\n",
    "\n",
    "Observe que o código pode funcionar em versões distintas às que foram mencionadas acima; contudo, sabe-se que a sua execução é garantida nas versões mencionadas."
   ]
  },
  {
   "cell_type": "code",
   "execution_count": 1,
   "metadata": {},
   "outputs": [],
   "source": [
    "import decimal as d\n",
    "import numpy as np\n",
    "import random as r\n",
    "import seaborn as sns\n",
    "import typing as t\n",
    "\n",
    "from ipypublish import nb_setup\n",
    "from timeit import default_timer as timer"
   ]
  },
  {
   "cell_type": "code",
   "execution_count": 37,
   "metadata": {},
   "outputs": [],
   "source": [
    "plt = nb_setup.setup_matplotlib(output=('pdf',), usetex=False, rcparams={'axes.facecolor': 'white', 'figure.facecolor': 'white'})\n",
    "pd = nb_setup.setup_pandas(escape_latex=True)"
   ]
  },
  {
   "cell_type": "markdown",
   "metadata": {},
   "source": [
    "## Funções de checagem"
   ]
  },
  {
   "cell_type": "markdown",
   "metadata": {},
   "source": [
    "Uma vez configurado o ambiente em que este notebook será executado, hão de se ter definidas algumas funções de checagem que serão utilizadas mais adiante:"
   ]
  },
  {
   "cell_type": "code",
   "execution_count": 3,
   "metadata": {},
   "outputs": [],
   "source": [
    "def verifica_comprimento_binario_igual_a(**parametros):\n",
    "    numero_de_parametros = len(parametros.keys())\n",
    "\n",
    "    if numero_de_parametros != 2:\n",
    "        raise ValueError(f\"Apenas um parâmetro pode ser passado para esta função. Foram recebidos {numero_de_parametros}.\")\n",
    "\n",
    "    parametro, outro_parametro = parametros.keys()\n",
    "\n",
    "    valor, descricao = parametros[parametro]\n",
    "    outro_valor, outra_descricao = parametros[outro_parametro]\n",
    "\n",
    "    if outro_valor is not None and len(valor) != outro_valor:\n",
    "        raise ValueError(f\"O comprimento do {descricao} {parametro}, em binário, precisa ser igual ao {outra_descricao} {outro_parametro}.\")"
   ]
  },
  {
   "cell_type": "code",
   "execution_count": 4,
   "metadata": {},
   "outputs": [],
   "source": [
    "def verifica_comprimento_maior_ou_igual_a(**parametros):\n",
    "    numero_de_parametros = len(parametros.keys())\n",
    "\n",
    "    if numero_de_parametros != 2:\n",
    "        raise ValueError(f\"Apenas um parâmetro pode ser passado para esta função. Foram recebidos {numero_de_parametros}.\")\n",
    "\n",
    "    parametro, outro_parametro = parametros.keys()\n",
    "\n",
    "    valor, descricao = parametros[parametro]\n",
    "    outro_valor, outra_descricao = parametros[outro_parametro]\n",
    "\n",
    "    if outro_valor is not None and len(valor) < outro_valor:\n",
    "        raise ValueError(f\"O {descricao} {parametro} precisa receber um valor, no mínimo, igual ao {outra_descricao} {outro_parametro}.\")"
   ]
  },
  {
   "cell_type": "code",
   "execution_count": 5,
   "metadata": {},
   "outputs": [],
   "source": [
    "def verifica_comprimento_menor_ou_igual_a(**parametros):\n",
    "    numero_de_parametros = len(parametros.keys())\n",
    "\n",
    "    if numero_de_parametros != 2:\n",
    "        raise ValueError(f\"Apenas um parâmetro pode ser passado para esta função. Foram recebidos {numero_de_parametros}.\")\n",
    "\n",
    "    parametro, outro_parametro = parametros.keys()\n",
    "\n",
    "    valor, descricao = parametros[parametro]\n",
    "    outro_valor, outra_descricao = parametros[outro_parametro]\n",
    "\n",
    "    if outro_valor is not None and len(valor) > outro_valor:\n",
    "        raise ValueError(f\"O comprimento do {descricao} {parametro} precisa ser, no máximo, igual ao {outra_descricao} {outro_parametro}.\")"
   ]
  },
  {
   "cell_type": "code",
   "execution_count": 6,
   "metadata": {},
   "outputs": [],
   "source": [
    "def verifica_dtype(**parametro_dict):\n",
    "    numero_de_parametros = len(parametro_dict.keys())\n",
    "\n",
    "    if numero_de_parametros != 1:\n",
    "        raise ValueError(f\"Apenas um parâmetro pode ser passado para esta função. Foram recebidos {numero_de_parametros}.\")\n",
    "\n",
    "    parametro = list(parametro_dict.keys())[0]\n",
    "    valor, descricao, dtype = parametro_dict[parametro]\n",
    "\n",
    "    if dtype == np.int_ and valor.dtype != dtype:\n",
    "        if valor.dtype == np.float_:\n",
    "            return valor.astype(np.int_)\n",
    "        else:\n",
    "            raise TypeError(f\"O {descricao} {parametro} precisa ser um numpy array com atributo dtype igual a {dtype}. O dtype do numpy array recebido é {valor.dtype}.\")\n",
    "\n",
    "    if valor.dtype != dtype:\n",
    "        raise TypeError(f\"O {descricao} {parametro} precisa ser um numpy array com atributo dtype igual a {dtype}. O dtype do numpy array recebido é {valor.dtype}.\")\n",
    "    else:\n",
    "        return valor"
   ]
  },
  {
   "cell_type": "code",
   "execution_count": 7,
   "metadata": {},
   "outputs": [],
   "source": [
    "def verifica_maior_ou_igual_a(**parametros):\n",
    "    numero_de_parametros = len(parametros.keys())\n",
    "\n",
    "    if numero_de_parametros != 2:\n",
    "        raise ValueError(f\"Apenas um parâmetro pode ser passado para esta função. Foram recebidos {numero_de_parametros}.\")\n",
    "\n",
    "    parametro, outro_parametro = parametros.keys()\n",
    "\n",
    "    valor, descricao = parametros[parametro]\n",
    "    outro_valor, outra_descricao = parametros[outro_parametro]\n",
    "\n",
    "    if outro_valor is not None and valor < outro_valor:\n",
    "        raise ValueError(f\"O {descricao} {parametro} precisa receber um valor, no mínimo, igual ao {outra_descricao} {outro_parametro}.\")"
   ]
  },
  {
   "cell_type": "code",
   "execution_count": 8,
   "metadata": {},
   "outputs": [],
   "source": [
    "def verifica_menor_ou_igual_a(**parametros):\n",
    "    numero_de_parametros = len(parametros.keys())\n",
    "\n",
    "    if numero_de_parametros != 2:\n",
    "        raise ValueError(f\"Apenas um parâmetro pode ser passado para esta função. Foram recebidos {numero_de_parametros}.\")\n",
    "\n",
    "    parametro, outro_parametro = parametros.keys()\n",
    "\n",
    "    valor, descricao = parametros[parametro]\n",
    "    outro_valor, outra_descricao = parametros[outro_parametro]\n",
    "\n",
    "    if outro_valor is not None and valor > outro_valor:\n",
    "        raise ValueError(f\"O {descricao} {parametro} precisa receber um valor, no máximo, igual ao {outra_descricao} {outro_parametro}.\")"
   ]
  },
  {
   "cell_type": "code",
   "execution_count": 9,
   "metadata": {},
   "outputs": [],
   "source": [
    "def verifica_nao_negatividade(**parametros):\n",
    "    for parametro in parametros.keys():\n",
    "        valor, descricao = parametros[parametro]\n",
    "\n",
    "        if valor < 0:\n",
    "            raise ValueError(f\"O {descricao} {parametro} precisa receber um número não-negativo.\")"
   ]
  },
  {
   "cell_type": "code",
   "execution_count": 10,
   "metadata": {},
   "outputs": [],
   "source": [
    "def verifica_ndim(**parametros):\n",
    "    for parametro in parametros.keys():\n",
    "        valor, descricao, ndim = parametros[parametro]\n",
    "\n",
    "        if valor.ndim != ndim:\n",
    "            raise ValueError(f\"O o atributo ndim do {descricao} {parametro} precisa ser igual a {ndim}.\")"
   ]
  },
  {
   "cell_type": "code",
   "execution_count": 11,
   "metadata": {},
   "outputs": [],
   "source": [
    "def verifica_tipo(**parametro_dict):\n",
    "    numero_de_parametros = len(parametro_dict.keys())\n",
    "\n",
    "    if numero_de_parametros != 1:\n",
    "        raise ValueError(f\"Apenas um parâmetro pode ser passado para esta função. Foram recebidos {numero_de_parametros}.\")\n",
    "\n",
    "    parametro = list(parametro_dict.keys())[0]\n",
    "    valor, descricao, tipos = parametro_dict[parametro]\n",
    "\n",
    "    if tipos == t.SupportsFloat:\n",
    "        if not isinstance(valor, tipos):\n",
    "            raise TypeError(f\"O {descricao} {parametro} precisa receber um número de ponto flutuante ou um objeto que possa ser convertido para tal.\")\n",
    "        else:\n",
    "            return float(valor)\n",
    "\n",
    "    if tipos == t.SupportsInt:\n",
    "        if not isinstance(valor, tipos):\n",
    "            raise TypeError(f\"O {descricao} {parametro} precisa receber um número inteiro ou um objeto que possa ser convertido para tal.\")\n",
    "        else:\n",
    "            return int(valor)\n",
    "\n",
    "    if tipos == np.ndarray:\n",
    "        if not isinstance(valor, np.ndarray):\n",
    "            if not isinstance(valor, (list, tuple)):\n",
    "                raise TypeError(f\"O {descricao} {parametro} precisa receber um array numpy ou um objeto que possa ser convertido para tal.\")\n",
    "            else:\n",
    "                return np.array(valor)\n",
    "\n",
    "    if tipos == bool:\n",
    "        if not isinstance(valor, bool):\n",
    "            if isinstance(valor, np.bool_):\n",
    "                return bool(valor)\n",
    "            else:\n",
    "                raise TypeError(f\"O {descricao} {parametro} precisa receber um objeto booleano ou um objeto que possa ser convertido para tal.\")\n",
    "        else:\n",
    "            return valor\n",
    "\n",
    "    if not isinstance(valor, tipos):\n",
    "        raise TypeError(f\"O {descricao} {parametro} precisa receber um objeto de classe {tipos} ou que herde dela.\")\n",
    "    else:\n",
    "        return valor"
   ]
  },
  {
   "cell_type": "code",
   "execution_count": 12,
   "metadata": {},
   "outputs": [],
   "source": [
    "def verifica_tipo_operador(operador, valor, tipo):\n",
    "    if not isinstance(valor, tipo):\n",
    "        raise TypeError(f\"O operador '{operador}' precisa ser do tipo {tipo}.\")"
   ]
  },
  {
   "cell_type": "markdown",
   "metadata": {},
   "source": [
    "# Definição do Tabuleiro"
   ]
  },
  {
   "cell_type": "markdown",
   "metadata": {},
   "source": [
    "Uma vez que ambos os algoritmos a serem discutidos aqui – _Simulated Annealing_ e _Genetic Algorithm_ — são utilizados para resolver o mesmo problema – o problema das oito rainhas –, optou-se por definir uma classe comumente utilizada por ambos os algoritmos, intitulada `Tabuleiro`."
   ]
  },
  {
   "cell_type": "markdown",
   "metadata": {},
   "source": [
    "## Funções auxiliares"
   ]
  },
  {
   "cell_type": "markdown",
   "metadata": {},
   "source": [
    "Antes de definirmos a classe, `Tabuleiro`, precisamos de uma definição para auxiliar nas representações da classe quando o modo binário estiver ativado."
   ]
  },
  {
   "cell_type": "code",
   "execution_count": 13,
   "metadata": {},
   "outputs": [],
   "source": [
    "def ajusta_indentacao(string, string_para_adicionar):\n",
    "    string = verifica_tipo(string=(string, \"parâmetro\", str))\n",
    "    string_para_adicionar = verifica_tipo(string_para_adicionar=(string_para_adicionar, \"parâmetro\", str))\n",
    "    \n",
    "    linhas = string.split(\"\\n\")\n",
    "\n",
    "    for linha in range(1, len(linhas)):\n",
    "        linhas[linha] = string_para_adicionar + linhas[linha]\n",
    "\n",
    "    return \"\\n\".join(linhas)"
   ]
  },
  {
   "cell_type": "markdown",
   "metadata": {},
   "source": [
    "Por fim, duas funções são necessárias para definir a conversão entre as notações suportadas."
   ]
  },
  {
   "cell_type": "code",
   "execution_count": 14,
   "metadata": {},
   "outputs": [],
   "source": [
    "def binario_para_decimal(bits):\n",
    "    bits = verifica_tipo(bits=(bits, \"parâmetro\", np.ndarray))\n",
    "\n",
    "    return int(\"\".join(bits.astype(np.int_).astype(str)), base=2) - 1"
   ]
  },
  {
   "cell_type": "code",
   "execution_count": 15,
   "metadata": {},
   "outputs": [],
   "source": [
    "def decimal_para_binario(numero, numero_de_bits):\n",
    "    numero = verifica_tipo(numero=(numero, \"parâmetro\", t.SupportsInt))\n",
    "    digitos_binarios = list(bin(numero + 1)[2:].zfill(numero_de_bits))\n",
    "\n",
    "    verifica_comprimento_binario_igual_a(numero=(digitos_binarios, \"parâmetro\"), numero_de_bits=(numero_de_bits, \"parâmetro\"))\n",
    "\n",
    "    return np.array(digitos_binarios, dtype=np.int_).astype(np.bool_)"
   ]
  },
  {
   "cell_type": "markdown",
   "metadata": {},
   "source": [
    "## A classe `Tabuleiro`"
   ]
  },
  {
   "cell_type": "markdown",
   "metadata": {},
   "source": [
    "Uma vez definidas as funções auxiliares, definamos agora a classe `Tabuleiro`. Alguns recursos permitidos por esta implementação incluem\n",
    "\n",
    "- suporte às notações binária e decimal (i.e., inteira), com possibilidade de alteração entre notações após a inicialização do objeto;\n",
    "- suporte a operadores e funções internas ao `python`, como `__str__`, `__repr__`, `__lt__` (`<`), `__eq__` (`=`), `__gt__` (`>`) e outras;\n",
    "- verificação de ataques (i.e., a função objetivo definida para este problema);\n",
    "- homogeneização das heurísticas adotadas na inicialização (no caso, não aceitar rainhas na mesma linha ou na mesma coluna);\n",
    "- suporte a diferentes tamanhos de tabuleiro e números de rainhas (o que quer dizer que `Tabuleiro` representa também a _ausência_ de rainhas),\n",
    "\n",
    "entre outros. Embora se tenha o entendimento de que alguns recursos da implementação não serão utilizados na resolução dos exercícios ora propostos (e.g., o último recurso citado), eles compõem a implementação e a tornam mais flexível, aumentando a possibilidade de reciclagem desta peça de código para outros fins."
   ]
  },
  {
   "cell_type": "code",
   "execution_count": 16,
   "metadata": {},
   "outputs": [],
   "source": [
    "class Tabuleiro:\n",
    "    def __init__(self, *, binario=False, lado_tabuleiro=8, n_rainhas=8, rainhas=None):\n",
    "        self.__lado_tabuleiro, self.__n_rainhas, self.__rainhas, self.__valor = None, None, None, np.inf\n",
    "\n",
    "        self.binario = binario\n",
    "        self.lado_tabuleiro = lado_tabuleiro\n",
    "        self.n_rainhas = n_rainhas\n",
    "\n",
    "        if rainhas is not None:\n",
    "            self.rainhas = rainhas\n",
    "\n",
    "    @property\n",
    "    def binario(self):\n",
    "        return self.__binario\n",
    "\n",
    "    @binario.setter\n",
    "    def binario(self, novo_binario):\n",
    "        novo_binario = verifica_tipo(binario=(novo_binario, \"atributo\", (bool, np.bool_)))\n",
    "\n",
    "        self.__binario = novo_binario\n",
    "\n",
    "        if self.__rainhas is not None:\n",
    "            if novo_binario is True:\n",
    "                numero_de_casas = np.ceil(np.log2(self.lado_tabuleiro + 1)).astype(np.int_)\n",
    "                self.rainhas = [decimal_para_binario(posicao, numero_de_casas) for posicao in self.rainhas]\n",
    "            else:\n",
    "                self.rainhas = [binario_para_decimal(posicao) for posicao in self.rainhas]\n",
    "\n",
    "    @property\n",
    "    def lado_tabuleiro(self):\n",
    "        return self.__lado_tabuleiro\n",
    "\n",
    "    @lado_tabuleiro.setter\n",
    "    def lado_tabuleiro(self, novo_lado_tabuleiro):\n",
    "        novo_lado_tabuleiro = verifica_tipo(lado_tabuleiro=(novo_lado_tabuleiro, \"atributo\", t.SupportsInt))\n",
    "\n",
    "        verifica_nao_negatividade(lado_tabuleiro=(novo_lado_tabuleiro, \"atributo\"))\n",
    "        verifica_maior_ou_igual_a(lado_tabuleiro=(novo_lado_tabuleiro, \"atributo\"), n_rainhas=(self.n_rainhas, \"atributo\"))\n",
    "\n",
    "        self.__lado_tabuleiro = novo_lado_tabuleiro\n",
    "\n",
    "    @property\n",
    "    def n_rainhas(self):\n",
    "        return self.__n_rainhas\n",
    "\n",
    "    @n_rainhas.setter\n",
    "    def n_rainhas(self, novo_n_rainhas):\n",
    "        novo_n_rainhas = verifica_tipo(n_rainhas=(novo_n_rainhas, \"atributo\", t.SupportsInt))\n",
    "\n",
    "        verifica_nao_negatividade(n_rainhas=(novo_n_rainhas, \"atributo\"))\n",
    "        verifica_menor_ou_igual_a(n_rainhas=(novo_n_rainhas, \"atributo\"), lado_tabuleiro=(self.lado_tabuleiro, \"atributo\"))\n",
    "\n",
    "        self.__n_rainhas = novo_n_rainhas\n",
    "\n",
    "        self.aleatoriza_rainhas()\n",
    "\n",
    "    def aleatoriza_rainhas(self):\n",
    "        posicoes = np.random.choice(self.lado_tabuleiro, self.n_rainhas, replace=False)\n",
    "\n",
    "        if self.binario is True:\n",
    "            digitos_necessarios = np.ceil(np.log2(self.lado_tabuleiro + 1)).astype(np.int_)\n",
    "            rainhas = np.empty((self.lado_tabuleiro, digitos_necessarios), dtype=np.bool_)\n",
    "            rainhas[:self.n_rainhas, :] = [decimal_para_binario(posicao, digitos_necessarios) for posicao in posicoes]\n",
    "            rainhas[self.n_rainhas:, :] = np.False_\n",
    "        else:\n",
    "            rainhas = np.empty(self.lado_tabuleiro, dtype=np.int_)\n",
    "\n",
    "            rainhas[:self.n_rainhas] = posicoes\n",
    "            rainhas[self.n_rainhas:] = -1\n",
    "\n",
    "        self.rainhas = rainhas\n",
    "\n",
    "    @property\n",
    "    def rainhas(self):\n",
    "        return self.__rainhas.copy() if self.__rainhas is not None else None\n",
    "\n",
    "    @rainhas.setter\n",
    "    def rainhas(self, novo_rainhas):\n",
    "        novo_rainhas = verifica_tipo(rainhas=(novo_rainhas, \"atributo\", np.ndarray))\n",
    "\n",
    "        verifica_comprimento_menor_ou_igual_a(rainhas=(novo_rainhas, \"atributo\"), lado_tabuleiro=(self.lado_tabuleiro, \"atributo\"))\n",
    "\n",
    "        if self.binario is True:\n",
    "            novo_rainhas = verifica_dtype(rainhas=(novo_rainhas, \"atributo\", np.bool_))\n",
    "\n",
    "            verifica_ndim(rainhas=(novo_rainhas, \"atributo\", 2))\n",
    "\n",
    "            if novo_rainhas.shape[0] < self.lado_tabuleiro:\n",
    "                diferenca = self.lado_tabuleiro - novo_rainhas.shape[0]\n",
    "                novo_rainhas = np.concatenate((novo_rainhas, diferenca * [[np.False_, np.False_, np.False_]]))\n",
    "        else:\n",
    "            novo_rainhas = verifica_dtype(rainhas=(novo_rainhas, \"atributo\", np.int_))\n",
    "\n",
    "            verifica_ndim(rainhas=(novo_rainhas, \"atributo\", 1))\n",
    "\n",
    "            if novo_rainhas.shape[0] < self.lado_tabuleiro:\n",
    "                diferenca = self.lado_tabuleiro - novo_rainhas.shape[0]\n",
    "                novo_rainhas = np.append(novo_rainhas, diferenca * [-1])\n",
    "\n",
    "        self.__rainhas = novo_rainhas\n",
    "\n",
    "        self.calcula_valor()\n",
    "\n",
    "    def calcula_valor(self):\n",
    "        ataques = 0\n",
    "\n",
    "        for indice_rainha in range(self.n_rainhas):\n",
    "            for indice_prox_rainha in range(indice_rainha + 1, self.n_rainhas):\n",
    "                ataques += self.ha_ataque(indice_rainha, indice_prox_rainha)  \n",
    "                \n",
    "        self.__valor = ataques\n",
    "\n",
    "    @property\n",
    "    def valor(self):\n",
    "        return self.__valor\n",
    "\n",
    "    def ha_ataque(self, indice_a, indice_b):\n",
    "        if self.binario is True:\n",
    "            iterador = (binario_para_decimal(posicao) for posicao in self.rainhas)\n",
    "            rainhas = np.fromiter(iterador, np.int_, self.n_rainhas)\n",
    "        else:\n",
    "            rainhas = self.rainhas\n",
    "\n",
    "        indice_a = verifica_tipo(indice_a=(indice_a, \"parâmetro\", t.SupportsInt))\n",
    "        indice_b = verifica_tipo(indice_b=(indice_b, \"parâmetro\", t.SupportsInt))\n",
    "\n",
    "        ha_ataque_horizontal = rainhas[indice_a] == rainhas[indice_b]\n",
    "        ha_ataque_diagonal = (indice_b - indice_a) == abs(rainhas[indice_b] - rainhas[indice_a])\n",
    "\n",
    "        return ha_ataque_horizontal or ha_ataque_diagonal\n",
    "\n",
    "    @property\n",
    "    def ha_rainhas_na_mesma_linha(self):\n",
    "        if self.binario is True:\n",
    "            iterador = (binario_para_decimal(posicao) for posicao in self.rainhas)\n",
    "            rainhas = np.fromiter(iterador, np.int_, self.n_rainhas)\n",
    "        else:\n",
    "            rainhas = self.rainhas\n",
    "\n",
    "        rainhas = rainhas[rainhas != -1]\n",
    "\n",
    "        return True if rainhas.shape[0] != np.unique(rainhas).shape[0] else False\n",
    "\n",
    "    def __sub__(self, outro):\n",
    "        verifica_tipo_operador('-', outro, Tabuleiro)\n",
    "\n",
    "        return self.valor - outro.valor\n",
    "\n",
    "    def __lt__(self, outro):\n",
    "        verifica_tipo_operador('<', outro, Tabuleiro)\n",
    "\n",
    "        return self.valor < outro.valor\n",
    "\n",
    "    def __gt__(self, outro):\n",
    "        verifica_tipo_operador('>', outro, Tabuleiro)\n",
    "\n",
    "        return self.valor > outro.valor\n",
    "\n",
    "    def __eq__(self, outro):\n",
    "        verifica_tipo_operador('==', outro, Tabuleiro)\n",
    "\n",
    "        return self.valor == outro.valor\n",
    "\n",
    "    def __repr__(self):\n",
    "        if self.binario is False:\n",
    "            representacao_rainhas = str(self.rainhas)\n",
    "            tipo = \"Decimal\"\n",
    "        else:\n",
    "            representacao_rainhas = caixinha.ajusta_indentacao(str(self.rainhas), 12 * ' ')\n",
    "            tipo = \"Binário\"\n",
    "\n",
    "        return f\"[Tabuleiro] {representacao_rainhas} | {self.valor} ataques | {tipo}\"\n",
    "\n",
    "    def __str__(self):\n",
    "        if self.binario is False:\n",
    "            return str(self.rainhas.tolist())\n",
    "        else:\n",
    "            representacao = []\n",
    "\n",
    "            for rainha in self.rainhas:\n",
    "                string = \"\"\n",
    "\n",
    "                for bit in rainha:\n",
    "                    if bit is np.True_:\n",
    "                        string += \"1\"\n",
    "                    else:\n",
    "                        string += \"0\"\n",
    "\n",
    "                representacao.append(string)\n",
    "\n",
    "            return str(representacao).replace(\"'\", \"\")\n",
    "\n",
    "    def __len__(self):\n",
    "        return self.n_rainhas"
   ]
  },
  {
   "cell_type": "markdown",
   "metadata": {},
   "source": [
    "# Problemas"
   ]
  },
  {
   "cell_type": "markdown",
   "metadata": {},
   "source": [
    "Com o auxílio das definições-suporte supra-expostas, podemos seguir para as que dizem respeito aos algoritmos _per se_. Antes de fazê-lo, contudo, é necessário que definamos uma função para os experimentos que serão conduzidos, a fim de se produzirem as tabelas, gráficos e informações estipulados em algumas alíneas desta atividade."
   ]
  },
  {
   "cell_type": "code",
   "execution_count": 17,
   "metadata": {},
   "outputs": [],
   "source": [
    "def executa_experimento(funcao, n_execucoes=50, verboso=True):\n",
    "    n_execucoes = verifica_tipo(n_execucoes=(n_execucoes, \"parâmetro\", t.SupportsInt))\n",
    "    verboso = verifica_tipo(verboso=(verboso, \"parâmetro\", (bool, np.bool_)))\n",
    "    \n",
    "    melhores_solucoes = np.empty((n_execucoes, 1), dtype=np.object_)\n",
    "    melhores_valores = np.empty((n_execucoes, 1), dtype=np.int_)\n",
    "    tempos_gastos = np.empty((n_execucoes, 1), dtype=np.float_)\n",
    "    iteracoes_gastas = np.empty((n_execucoes, 1), dtype=np.int_)\n",
    "\n",
    "    for e in range(n_execucoes):\n",
    "        if verboso is True:\n",
    "            print(f\"Execução {e + 1}...\", end=\"\\r\")\n",
    "\n",
    "        tempos_gastos[e, 0] = timer()\n",
    "        melhores_solucoes[e, 0], iteracoes_gastas[e, 0] = funcao()\n",
    "        tempos_gastos[e, 0] = timer() - tempos_gastos[e, 0]\n",
    "        melhores_valores[e, 0] = melhores_solucoes[e, 0].valor\n",
    "        melhores_solucoes[e, 0] = str(melhores_solucoes[e, 0])\n",
    "\n",
    "    tabela = np.concatenate((melhores_solucoes, melhores_valores, tempos_gastos, iteracoes_gastas), axis=1)\n",
    "    tabela = pd.DataFrame(tabela, columns=[\"Solução\", \"Função-objetivo\", \"Tempo (seg.)\", \"Iterações\"]).infer_objects()\n",
    "\n",
    "    figura, eixos = plt.subplots(1, 2, figsize=(10, 5))\n",
    "    \n",
    "    # figura.tight_layout()\n",
    "    eixos[0].set_xlim(1, 50)\n",
    "    eixos[1].set_xlim(1, 50)\n",
    "\n",
    "    figura.suptitle(f\"Dados da execução do algoritmo {str(funcao).split(' ')[1]}\", y=1.05)\n",
    "\n",
    "    eixos[0].set_title(\"Iterações por execução\")\n",
    "    eixos[1].set_title(\"Tempo por execução (seg.)\")\n",
    "\n",
    "    sns.lineplot(x=range(1, n_execucoes + 1), y=iteracoes_gastas.ravel(), ax=eixos[0])\n",
    "    sns.lineplot(x=range(1, n_execucoes + 1), y=tempos_gastos.ravel(), ax=eixos[1])\n",
    "\n",
    "    if verboso is True:\n",
    "        print(f\"Execução concluída.\")\n",
    "\n",
    "    return tabela, figura"
   ]
  },
  {
   "cell_type": "markdown",
   "metadata": {},
   "source": [
    "## _Stochastic Hill Climbing: Simulated Annealing_"
   ]
  },
  {
   "cell_type": "markdown",
   "metadata": {},
   "source": [
    "Para resolver a primeira questão, que diz respeito ao _Stochastic Hill Climbing_, optamos por implementar o _Simulated Annealing_."
   ]
  },
  {
   "cell_type": "markdown",
   "metadata": {},
   "source": [
    "### Implementação do algoritmo"
   ]
  },
  {
   "cell_type": "markdown",
   "metadata": {},
   "source": [
    "Antes de seguirmos à resolução para as alíneas referentes a este algoritmo, definamos algumas funções."
   ]
  },
  {
   "cell_type": "markdown",
   "metadata": {},
   "source": [
    "#### Funções auxiliares"
   ]
  },
  {
   "cell_type": "markdown",
   "metadata": {},
   "source": [
    "Uma função auxiliar necessária precisa produzir um vetor com as temperaturas a serem iteradas pelo algoritmo."
   ]
  },
  {
   "cell_type": "code",
   "execution_count": 18,
   "metadata": {},
   "outputs": [],
   "source": [
    "def gera_temperaturas(temperatura_inicial, variacao):\n",
    "    temperatura_inicial = verifica_tipo(temperatura_inicial=(temperatura_inicial, \"parâmetro\", t.SupportsFloat))\n",
    "    variacao = verifica_tipo(variacao=(variacao, \"parâmetro\", t.SupportsFloat))\n",
    "    \n",
    "    n_iteracoes = np.round(np.floor(temperatura_inicial / variacao))\n",
    "    temperaturas = temperatura_inicial - variacao * np.arange(n_iteracoes)\n",
    "\n",
    "    return temperaturas"
   ]
  },
  {
   "cell_type": "markdown",
   "metadata": {},
   "source": [
    "Por fim, uma segunda função auxiliar é necessária para definir se o algoritmo deve ir para uma solução pior."
   ]
  },
  {
   "cell_type": "code",
   "execution_count": 19,
   "metadata": {},
   "outputs": [],
   "source": [
    "def tabuleiro_deve_mudar(temperatura, variacao):\n",
    "    temperatura = verifica_tipo(temperatura=(temperatura, \"parâmetro\", t.SupportsFloat))\n",
    "    variacao = verifica_tipo(variacao=(variacao, \"parâmetro\", t.SupportsFloat))\n",
    "    e = float(np.e)\n",
    "\n",
    "    exp = d.Decimal(d.Decimal(e) ** (d.Decimal(variacao) / d.Decimal(temperatura)))\n",
    "\n",
    "    return np.random.uniform() < exp"
   ]
  },
  {
   "cell_type": "markdown",
   "metadata": {},
   "source": [
    "#### Algoritmo principal"
   ]
  },
  {
   "cell_type": "markdown",
   "metadata": {},
   "source": [
    "Com base nas definições acima, definamos agora o algoritmo principal."
   ]
  },
  {
   "cell_type": "code",
   "execution_count": 20,
   "metadata": {},
   "outputs": [],
   "source": [
    "def recozimento_simulado(temperatura_inicial=100, variacao=.01, binario=False, verboso=False):\n",
    "    temperatura_inicial = verifica_tipo(temperatura_inicial=(temperatura_inicial, \"parâmetro\", t.SupportsFloat))\n",
    "    variacao = verifica_tipo(variacao=(variacao, \"parâmetro\", t.SupportsFloat))\n",
    "    verboso = verifica_tipo(verboso=(verboso, \"parâmetro\", (bool, np.bool_)))\n",
    "\n",
    "    verifica_menor_ou_igual_a(variacao=(variacao, \"parâmetro\"), temperatura_inicial=(temperatura_inicial, \"parâmetro\"))\n",
    "\n",
    "    tabuleiro_atual = Tabuleiro(binario=binario)\n",
    "    temperaturas = gera_temperaturas(temperatura_inicial, variacao)\n",
    "\n",
    "    if verboso is True:\n",
    "        print(f\"[Iteração -1] {tabuleiro_atual}\")\n",
    "\n",
    "    if tabuleiro_atual.valor == 0:\n",
    "        return tabuleiro_atual, 0\n",
    "\n",
    "    for iteracao, temperatura in enumerate(temperaturas):\n",
    "        tabuleiro_seguinte = Tabuleiro(binario=binario)\n",
    "\n",
    "        if tabuleiro_seguinte.valor == 0:\n",
    "            return tabuleiro_seguinte, iteracao + 1\n",
    "\n",
    "        variacao = tabuleiro_atual - tabuleiro_seguinte\n",
    "        \n",
    "        if variacao > 0:\n",
    "            tabuleiro_atual = tabuleiro_seguinte\n",
    "        elif tabuleiro_deve_mudar(temperatura, variacao):\n",
    "            tabuleiro_atual = tabuleiro_seguinte\n",
    "\n",
    "        if verboso is True:\n",
    "            print(f\"[Iteração {iteracao}] {tabuleiro_atual} [Temperatura {np.round(temperatura, 3)}]\")\n",
    "\n",
    "    if verboso is True:\n",
    "        print(\"A temperatura chegou a zero.\")\n",
    "\n",
    "    return tabuleiro_atual"
   ]
  },
  {
   "cell_type": "markdown",
   "metadata": {},
   "source": [
    "### Descreva a função objetivo utilizada na modelagem do problema."
   ]
  },
  {
   "cell_type": "markdown",
   "metadata": {},
   "source": [
    "A função objetivo utilizada, retornada por `Tabuleiro.valor` e calculada em `Tabuleiro.calcula_valor()`, verifica a existência de ataques de rainhas no tabuleiro na horizontal e na diagonal. Sua representação é mostrada abaixo:\n",
    "\n",
    "`ha_ataque_horizontal = rainhas[indice_a] == rainhas[indice_b]`\n",
    "\n",
    "`ha_ataque_diagonal = (indice_b - indice_a) == abs(rainhas[indice_b] - rainhas[indice_a])`\n",
    "\n",
    "Dado que o tabuleiro é representado por um vetor com $n$ elementos tal que o valor de cada elemento da posição $i$ representa a linha onde a rainha se encontra nessa mesma coluna, percorre-se esse vetor varrendo para cada elemento da posição `indice_a` os elementos seguintes que estão na posição `indice_b`. Caso algum tipo de ataque seja detectado, soma-se 1 ao valor do tabuleiro."
   ]
  },
  {
   "cell_type": "markdown",
   "metadata": {},
   "source": [
    "### Descreva a codificação utilizada para a solução candidata."
   ]
  },
  {
   "cell_type": "markdown",
   "metadata": {},
   "source": [
    "Para esse algoritmo, utilizou-se a codificação decimal (i.e., inteira). Contudo, graças ao suporte tanto à notação decimal quanto binária por parte da classe `Tabuleiro` e à simplicidade deste algoritmo, pode-se utilizar também a decimal ao regular o parâmetro `binario` da função `recozimento_simulado()`."
   ]
  },
  {
   "cell_type": "markdown",
   "metadata": {},
   "source": [
    "### Descreva a(s) heurística(s) e o(s) critério(s) de parada utilizados pelo algoritmo."
   ]
  },
  {
   "cell_type": "markdown",
   "metadata": {},
   "source": [
    "Como conhecimento prévio estipulado pelo projetista, foi estipulado que as rainhas não podem estar em uma mesma coluna ou linha.\n",
    "\n",
    "No que diz respeito às condições de parada, adotaram-se dois critérios:\n",
    "1. a temperatura chegar a zero (i.e., percorrer todo o vetor de _arrays_ de temperaturas, cujo tamanho depende da temperatura inicial e variação); e\n",
    "2. o número de ataques chegar a zero (i.e., verificar que `tabuleiro_atual.valor == 0` ou que `tabuleiro_seguinte.valor == 0`)."
   ]
  },
  {
   "cell_type": "markdown",
   "metadata": {},
   "source": [
    "### Execute 50 vezes o algoritmo.\n",
    "\n",
    "**Calcule:**\n",
    "\n",
    "- **Média e desvio padrão do número mínimo de iterações necessário para parar o algoritmo.**\n",
    "- **Média e desvio padrão do tempo de execução do algoritmo.**\n",
    "\n",
    "**Plote:**\n",
    "\n",
    "- **Curva com número mínimo de iterações de cada execução.**\n",
    "- **Curva com o tempo de execução do algoritmo de cada execução.**\n",
    "\n",
    "**Mostre:**\n",
    "\n",
    "- **Ao menos duas soluções distintas encontradas pelo algoritmo.**"
   ]
  },
  {
   "cell_type": "markdown",
   "metadata": {},
   "source": [
    "Podemos obter os resultados pedidos através da função `executa_experimento()`, passando `recozimento_simulado()` pelo parâmetro `funcao`."
   ]
  },
  {
   "cell_type": "code",
   "execution_count": 21,
   "metadata": {},
   "outputs": [
    {
     "name": "stdout",
     "output_type": "stream",
     "text": [
      "Execução concluída.\n"
     ]
    },
    {
     "data": {
      "application/pdf": "[encoded data removed]",
      "text/plain": [
       "<Figure size 1000x500 with 2 Axes>"
      ]
     },
     "metadata": {},
     "output_type": "display_data"
    }
   ],
   "source": [
    "tabelaSA, figuraSA = executa_experimento(recozimento_simulado)"
   ]
  },
  {
   "cell_type": "code",
   "execution_count": 22,
   "metadata": {},
   "outputs": [
    {
     "data": {
      "text/html": [
       "<div>\n",
       "<style scoped>\n",
       "    .dataframe tbody tr th:only-of-type {\n",
       "        vertical-align: middle;\n",
       "    }\n",
       "\n",
       "    .dataframe tbody tr th {\n",
       "        vertical-align: top;\n",
       "    }\n",
       "\n",
       "    .dataframe thead th {\n",
       "        text-align: right;\n",
       "    }\n",
       "</style>\n",
       "<table border=\"1\" class=\"dataframe\">\n",
       "  <thead>\n",
       "    <tr style=\"text-align: right;\">\n",
       "      <th></th>\n",
       "      <th>Solução</th>\n",
       "      <th>Função-objetivo</th>\n",
       "      <th>Tempo (seg.)</th>\n",
       "      <th>Iterações</th>\n",
       "    </tr>\n",
       "  </thead>\n",
       "  <tbody>\n",
       "    <tr>\n",
       "      <th>0</th>\n",
       "      <td>[5, 1, 6, 0, 3, 7, 4, 2]</td>\n",
       "      <td>0</td>\n",
       "      <td>0.986682</td>\n",
       "      <td>739</td>\n",
       "    </tr>\n",
       "    <tr>\n",
       "      <th>1</th>\n",
       "      <td>[4, 6, 1, 3, 7, 0, 2, 5]</td>\n",
       "      <td>0</td>\n",
       "      <td>0.527724</td>\n",
       "      <td>424</td>\n",
       "    </tr>\n",
       "    <tr>\n",
       "      <th>2</th>\n",
       "      <td>[6, 0, 2, 7, 5, 3, 1, 4]</td>\n",
       "      <td>0</td>\n",
       "      <td>1.047022</td>\n",
       "      <td>925</td>\n",
       "    </tr>\n",
       "    <tr>\n",
       "      <th>3</th>\n",
       "      <td>[2, 6, 1, 7, 5, 3, 0, 4]</td>\n",
       "      <td>0</td>\n",
       "      <td>0.438148</td>\n",
       "      <td>386</td>\n",
       "    </tr>\n",
       "    <tr>\n",
       "      <th>4</th>\n",
       "      <td>[2, 0, 6, 4, 7, 1, 3, 5]</td>\n",
       "      <td>0</td>\n",
       "      <td>0.125938</td>\n",
       "      <td>112</td>\n",
       "    </tr>\n",
       "  </tbody>\n",
       "</table>\n",
       "</div>"
      ],
      "text/latex": [
       "\\begin{tabular}{llrrr}\n",
       "\\toprule\n",
       "{} &                   Solução &  Função-objetivo &  Tempo (seg.) &  Iterações \\\\\n",
       "\\midrule\n",
       "0 &  [5, 1, 6, 0, 3, 7, 4, 2] &                0 &      0.986682 &        739 \\\\\n",
       "1 &  [4, 6, 1, 3, 7, 0, 2, 5] &                0 &      0.527724 &        424 \\\\\n",
       "2 &  [6, 0, 2, 7, 5, 3, 1, 4] &                0 &      1.047022 &        925 \\\\\n",
       "3 &  [2, 6, 1, 7, 5, 3, 0, 4] &                0 &      0.438148 &        386 \\\\\n",
       "4 &  [2, 0, 6, 4, 7, 1, 3, 5] &                0 &      0.125938 &        112 \\\\\n",
       "\\bottomrule\n",
       "\\end{tabular}\n"
      ],
      "text/plain": [
       "                    Solução  Função-objetivo  Tempo (seg.)  Iterações\n",
       "0  [5, 1, 6, 0, 3, 7, 4, 2]                0      0.986682        739\n",
       "1  [4, 6, 1, 3, 7, 0, 2, 5]                0      0.527724        424\n",
       "2  [6, 0, 2, 7, 5, 3, 1, 4]                0      1.047022        925\n",
       "3  [2, 6, 1, 7, 5, 3, 0, 4]                0      0.438148        386\n",
       "4  [2, 0, 6, 4, 7, 1, 3, 5]                0      0.125938        112"
      ]
     },
     "execution_count": 22,
     "metadata": {},
     "output_type": "execute_result"
    }
   ],
   "source": [
    "tabelaSA.head(5)"
   ]
  },
  {
   "cell_type": "code",
   "execution_count": 23,
   "metadata": {},
   "outputs": [
    {
     "name": "stdout",
     "output_type": "stream",
     "text": [
      "Média e desvio padrão da função-objetivo: 0.0 ± 0.0 ataques\n",
      "Média e desvio padrão do tempo gasto: 0.663 ± 0.605 segundos\n",
      "Média e desvio padrão das iterações gastas: 585.84 ± 540.457\n"
     ]
    }
   ],
   "source": [
    "print(f\"Média e desvio padrão da função-objetivo: {tabelaSA['Função-objetivo'].mean()} ± {tabelaSA['Função-objetivo'].std()} ataques\\n\"\n",
    "      f\"Média e desvio padrão do tempo gasto: {np.round(tabelaSA['Tempo (seg.)'].mean(), 3)} ± {np.round(tabelaSA['Tempo (seg.)'].std(), 3)} segundos\\n\"\n",
    "      f\"Média e desvio padrão das iterações gastas: {np.round(tabelaSA['Iterações'].mean(), 3)} ± {np.round(tabelaSA['Iterações'].std(), 3)}\")"
   ]
  },
  {
   "cell_type": "markdown",
   "metadata": {},
   "source": [
    "### Comente e mostre o código fonte do algoritmo desenvolvido."
   ]
  },
  {
   "cell_type": "markdown",
   "metadata": {},
   "source": []
  },
  {
   "cell_type": "markdown",
   "metadata": {},
   "source": [
    "## _Genetic Algorithm_"
   ]
  },
  {
   "cell_type": "markdown",
   "metadata": {},
   "source": [
    "### Implementação do algoritmo"
   ]
  },
  {
   "cell_type": "markdown",
   "metadata": {},
   "source": [
    "Antes de seguirmos à resolução para as alíneas referentes a este algoritmo, definamos algumas funções."
   ]
  },
  {
   "cell_type": "markdown",
   "metadata": {},
   "source": [
    "#### Funções auxiliares"
   ]
  },
  {
   "cell_type": "markdown",
   "metadata": {},
   "source": [
    "Uma definição é necessária para auxiliar na exibição da evolução do algoritmo quando `verboso = True`."
   ]
  },
  {
   "cell_type": "code",
   "execution_count": 24,
   "metadata": {},
   "outputs": [],
   "source": [
    "def gera_contagem_populacao(populacao):\n",
    "    ataques = [tabuleiro.valor for tabuleiro in populacao]\n",
    "\n",
    "    colunas = np.unique(ataques)\n",
    "    indices = [\"Contagem\"]\n",
    "\n",
    "    contagem_de_valores = {ataque: 0 for ataque in colunas}\n",
    "\n",
    "    for ataque in ataques:\n",
    "        contagem_de_valores[ataque] += 1\n",
    "\n",
    "    data_frame = pd.DataFrame(contagem_de_valores, columns=colunas, index=indices)\n",
    "    data_frame.columns.names = [\"Ataques\"]\n",
    "\n",
    "    return data_frame"
   ]
  },
  {
   "cell_type": "markdown",
   "metadata": {},
   "source": [
    "Em adição, uma função é requerida para inicializar a população."
   ]
  },
  {
   "cell_type": "code",
   "execution_count": 25,
   "metadata": {},
   "outputs": [],
   "source": [
    "def inicializa_populacao(tamanho_populacao):\n",
    "    populacao = [Tabuleiro(binario=True) for _ in range(tamanho_populacao)]\n",
    "\n",
    "    return sorted(populacao)"
   ]
  },
  {
   "cell_type": "markdown",
   "metadata": {},
   "source": [
    "Em seguida, definições que aplicam os operadores evolucionários são necessárias."
   ]
  },
  {
   "cell_type": "code",
   "execution_count": 26,
   "metadata": {},
   "outputs": [],
   "source": [
    "def selecao_dos_pais(populacao, tamanho_ringue):\n",
    "    nova_populacao, tamanho_populacao = [], len(populacao)\n",
    "\n",
    "    for _ in range(tamanho_populacao):\n",
    "        lutadores = r.sample(populacao, tamanho_ringue)\n",
    "        lutadores = sorted(lutadores)\n",
    "\n",
    "        nova_populacao.append(lutadores[0])\n",
    "\n",
    "    return nova_populacao"
   ]
  },
  {
   "cell_type": "code",
   "execution_count": 27,
   "metadata": {},
   "outputs": [],
   "source": [
    "def cruzamento(populacao, taxa_crossover):\n",
    "    nova_populacao, tamanho_populacao = [], len(populacao)\n",
    "    n_rodadas = np.ceil(tamanho_populacao / 2).astype(np.int_)\n",
    "\n",
    "    for _ in range(n_rodadas):\n",
    "        pai1, pai2 = r.sample(populacao, 2)\n",
    "        pai1, pai2 = pai1.rainhas, pai2.rainhas\n",
    "\n",
    "        if np.random.uniform() <= taxa_crossover:\n",
    "            corte = r.randint(1, len(pai1) - 1)\n",
    "\n",
    "            filho1 = np.concatenate((pai1[:corte], pai2[corte:]))\n",
    "            filho2 = np.concatenate((pai2[:corte], pai1[corte:]))\n",
    "        else:\n",
    "            filho1, filho2 = pai1, pai2\n",
    "\n",
    "        filho1, filho2 = Tabuleiro(binario=True, rainhas=filho1), Tabuleiro(binario=True, rainhas=filho2)\n",
    "\n",
    "        if tamanho_populacao - len(nova_populacao) >= 2:\n",
    "            nova_populacao.extend([filho1, filho2])\n",
    "        else:\n",
    "            nova_populacao.append(filho1 if np.random.uniform() <= .5 else filho2)\n",
    "\n",
    "    return nova_populacao"
   ]
  },
  {
   "cell_type": "code",
   "execution_count": 28,
   "metadata": {},
   "outputs": [],
   "source": [
    "def mutacao(populacao, taxa_mutacao):\n",
    "    nova_populacao, tamanho_populacao = [], len(populacao)\n",
    "\n",
    "    for i in range(tamanho_populacao):\n",
    "        rainhas = populacao[i].rainhas\n",
    "\n",
    "        for bit in range(rainhas.ravel().shape[0]):\n",
    "            if np.random.uniform() <= taxa_mutacao:\n",
    "                rainhas.ravel()[bit] = not rainhas.ravel()[bit]\n",
    "\n",
    "        novo_tabuleiro = Tabuleiro(binario=True, rainhas=rainhas)\n",
    "\n",
    "        nova_populacao.append(novo_tabuleiro)\n",
    "\n",
    "    return nova_populacao"
   ]
  },
  {
   "cell_type": "code",
   "execution_count": 29,
   "metadata": {},
   "outputs": [],
   "source": [
    "def seleciona_sobreviventes(populacao, nova_populacao):\n",
    "    sobreviventes = sorted(populacao + nova_populacao)\n",
    "\n",
    "    return sobreviventes[:len(populacao)]"
   ]
  },
  {
   "cell_type": "markdown",
   "metadata": {},
   "source": [
    "Em seguida, uma função que assegura que os filhos estão respeitando as heurísticas estipuladas (nenhuma rainha na mesma linha) é definida."
   ]
  },
  {
   "cell_type": "code",
   "execution_count": 30,
   "metadata": {},
   "outputs": [],
   "source": [
    "def gera_filhos_validos(pais, taxa_crossover, taxa_mutacao):\n",
    "    filhos, tamanho_populacao = [], len(pais)\n",
    "\n",
    "    while len(filhos) < tamanho_populacao:\n",
    "        embrioes = cruzamento(pais, taxa_crossover)\n",
    "        fetos = mutacao(embrioes, taxa_mutacao)\n",
    "\n",
    "        for feto in fetos:\n",
    "            if len(filhos) < tamanho_populacao:\n",
    "                if feto.ha_rainhas_na_mesma_linha is False:\n",
    "                    filhos.append(feto)\n",
    "            else:\n",
    "                break\n",
    "\n",
    "    return filhos"
   ]
  },
  {
   "cell_type": "markdown",
   "metadata": {},
   "source": [
    "Por fim, uma solução que gera a nova população é definida."
   ]
  },
  {
   "cell_type": "code",
   "execution_count": 31,
   "metadata": {},
   "outputs": [],
   "source": [
    "def gera_nova_populacao(populacao, taxa_crossover, taxa_mutacao, tamanho_ringue):\n",
    "    pais = selecao_dos_pais(populacao, tamanho_ringue)\n",
    "    filhos = gera_filhos_validos(pais, taxa_crossover, taxa_mutacao)\n",
    "\n",
    "    return sorted(filhos)"
   ]
  },
  {
   "cell_type": "markdown",
   "metadata": {},
   "source": [
    "#### Algoritmo principal"
   ]
  },
  {
   "cell_type": "markdown",
   "metadata": {},
   "source": [
    "Com base nas definições acima, definamos agora o algoritmo principal."
   ]
  },
  {
   "cell_type": "code",
   "execution_count": 32,
   "metadata": {},
   "outputs": [],
   "source": [
    "def algoritmo_genetico(tamanho_populacao=20, max_iteracoes=1000, taxa_mutacao=.03, taxa_crossover=.8, tamanho_ringue=3, verboso=False):\n",
    "    tamanho_populacao = verifica_tipo(tamanho_populacao=(tamanho_populacao, \"parâmetro\", t.SupportsInt))\n",
    "    max_iteracoes = verifica_tipo(max_iteracoes=(max_iteracoes, \"parâmetro\", t.SupportsInt))\n",
    "    taxa_mutacao = verifica_tipo(taxa_mutacao=(taxa_mutacao, \"parâmetro\", t.SupportsFloat))\n",
    "    taxa_crossover = verifica_tipo(taxa_crossover=(taxa_crossover, \"parâmetro\", t.SupportsFloat))\n",
    "    tamanho_ringue = verifica_tipo(tamanho_do_ringue=(tamanho_ringue, \"parâmetro\", t.SupportsInt))\n",
    "    verboso = verifica_tipo(verboso=(verboso, \"parâmetro\", (bool, np.bool_)))\n",
    "\n",
    "    verifica_nao_negatividade(tamanho_populacao=(tamanho_populacao, \"parâmetro\"), max_iteracoes=(max_iteracoes, \"parâmetro\"), taxa_mutacao=(taxa_mutacao, \"parâmetro\"), taxa_crossover=(taxa_crossover, \"parâmetro\"), tamanho_ringue=(tamanho_ringue, \"parâmetro\"))\n",
    "    verifica_menor_ou_igual_a(taxa_mutacao=(taxa_mutacao, \"parâmetro\"), valor=(1, \"valor\"))\n",
    "    verifica_menor_ou_igual_a(taxa_mutacao=(taxa_crossover, \"parâmetro\"), valor=(1, \"valor\"))\n",
    "    verifica_menor_ou_igual_a(tamanho_ringue=(tamanho_ringue, \"parâmetro\"), tamanho_populacao=(tamanho_populacao, \"parâmetro\"))\n",
    "\n",
    "    pais = inicializa_populacao(tamanho_populacao)\n",
    "    iteracao = 0\n",
    "\n",
    "    if verboso is True:\n",
    "        print(f\"[Iteração {iteracao}] População inicial: \\n\"\n",
    "              f\"{gera_contagem_populacao(pais)}\", end=\"\\n\\n\")\n",
    "\n",
    "    while iteracao < max_iteracoes:\n",
    "        if pais[0].valor == 0:\n",
    "            if verboso is True:\n",
    "                print(\"Uma solução ótima foi encontrada.\")\n",
    "\n",
    "            break\n",
    "\n",
    "        filhos = gera_nova_populacao(pais, taxa_crossover, taxa_mutacao, tamanho_ringue)\n",
    "        pais = seleciona_sobreviventes(pais, filhos)\n",
    "        iteracao += 1\n",
    "\n",
    "        if verboso is True:\n",
    "            print(f\"[Iteração {iteracao}]\\n\"\n",
    "                  f\"Filhos: \\n\"\n",
    "                  f\"{gera_contagem_populacao(filhos)}\\n\\n\"\n",
    "                  f\"Sobreviventes: \\n\"\n",
    "                  f\"{gera_contagem_populacao(pais)}\", end=\"\\n\\n\")\n",
    "\n",
    "    if iteracao >= max_iteracoes and verboso is True:\n",
    "        print(\"O número máximo de iterações foi atingido.\")\n",
    "\n",
    "    return pais[0], iteracao"
   ]
  },
  {
   "cell_type": "markdown",
   "metadata": {},
   "source": [
    "### Descreva a função objetivo utilizada na modelagem do problema."
   ]
  },
  {
   "cell_type": "markdown",
   "metadata": {},
   "source": [
    "A função objetivo utilizada, retornada por `Tabuleiro.valor` e calculada em `Tabuleiro.calcula_valor()`, verifica a existência de ataques de rainhas no tabuleiro na horizontal e na diagonal. Sua representação é mostrada abaixo:\n",
    "\n",
    "`ha_ataque_horizontal = rainhas[indice_a] == rainhas[indice_b]`\n",
    "\n",
    "`ha_ataque_diagonal = (indice_b - indice_a) == abs(rainhas[indice_b] - rainhas[indice_a])`\n",
    "\n",
    "Dado que o tabuleiro é representado por um vetor com $n$ elementos tal que o valor de cada elemento da posição $i$ representa a linha onde a rainha se encontra nessa mesma coluna, percorre-se esse vetor varrendo para cada elemento da posição `indice_a` os elementos seguintes que estão na posição `indice_b`. Caso algum tipo de ataque seja detectado, soma-se 1 ao valor do tabuleiro."
   ]
  },
  {
   "cell_type": "markdown",
   "metadata": {},
   "source": [
    "### Apresente a escolha e explique o funcionamento dos operadores que foram utilizados: seleção dos pais, cruzamento e mutação."
   ]
  },
  {
   "cell_type": "markdown",
   "metadata": {},
   "source": [
    "- Para a **seleção dos pais**, utilizou-se a técnica **_n-Way Tournament Selection_**, em que são selecionados _n_ indivíduos aleatórios da população para \"lutar\" entre si, ganhando o que tiver melhor _fitness_. Por padrão, _n_ é definido como 3. O torneio acontece duas vezes: uma para selecionar o primeiro pai e a segunda para selecionar o segundo.\n",
    "- Para o **cruzamento**, utilizou-se a técnica de **cruzamento com ponto de corte aleatório**. Nessa técnica, uma posição aleatória _c_ do vetor é escolhida como ponto de corte. Quando a taxa de _crossover_ não é ultrapassada, corta-se o vetor do pai 1 da posição inicial até a posição _c_ e o vetor do pai 2 de _c_ até a última posição. Os cortes são concatenados gerando o filho 1, e o restante dos vetores \"cortados\" também são concatenados para gerar o filho 2. Caso a taxa de crossover seja ultrapassada, os pais tornam-se os filhos.\n",
    "- Para a **mutação**, utilizou-se a técnica de **mutação com permutação aleatória**. Nessa técnica, duas posições do vetor são escolhidas aleatoriamente para serem permutadas, caso a taxa de mutação não seja ultrapassa. Caso seja, a mutação não ocorre."
   ]
  },
  {
   "cell_type": "markdown",
   "metadata": {},
   "source": [
    "### Execute 50 vezes o algoritmo.\n",
    "\n",
    "**Calcule:**\n",
    "\n",
    "- **Média e desvio padrão do número mínimo de iterações necessário para parar o algoritmo.**\n",
    "- **Média e desvio padrão do tempo de execução do algoritmo.**\n",
    "\n",
    "**Plote:**\n",
    "\n",
    "- **Curva com número mínimo de iterações de cada execução.**\n",
    "- **Curva com o tempo de execução do algoritmo de cada execução.**\n",
    "\n",
    "**Mostre:**\n",
    "\n",
    "- **Ao menos duas soluções distintas encontradas pelo algoritmo.**"
   ]
  },
  {
   "cell_type": "code",
   "execution_count": 33,
   "metadata": {},
   "outputs": [
    {
     "name": "stdout",
     "output_type": "stream",
     "text": [
      "Execução concluída.\n"
     ]
    },
    {
     "data": {
      "application/pdf": "[encoded data removed]",
      "text/plain": [
       "<Figure size 1000x500 with 2 Axes>"
      ]
     },
     "metadata": {},
     "output_type": "display_data"
    }
   ],
   "source": [
    "tabelaAG, figuraAG = executa_experimento(algoritmo_genetico)"
   ]
  },
  {
   "cell_type": "code",
   "execution_count": 34,
   "metadata": {},
   "outputs": [
    {
     "data": {
      "text/html": [
       "<div>\n",
       "<style scoped>\n",
       "    .dataframe tbody tr th:only-of-type {\n",
       "        vertical-align: middle;\n",
       "    }\n",
       "\n",
       "    .dataframe tbody tr th {\n",
       "        vertical-align: top;\n",
       "    }\n",
       "\n",
       "    .dataframe thead th {\n",
       "        text-align: right;\n",
       "    }\n",
       "</style>\n",
       "<table border=\"1\" class=\"dataframe\">\n",
       "  <thead>\n",
       "    <tr style=\"text-align: right;\">\n",
       "      <th></th>\n",
       "      <th>Solução</th>\n",
       "      <th>Função-objetivo</th>\n",
       "      <th>Tempo (seg.)</th>\n",
       "      <th>Iterações</th>\n",
       "    </tr>\n",
       "  </thead>\n",
       "  <tbody>\n",
       "    <tr>\n",
       "      <th>0</th>\n",
       "      <td>[0110, 0100, 0001, 0111, 1101, 0011, 1000, 0010]</td>\n",
       "      <td>0</td>\n",
       "      <td>2.740756</td>\n",
       "      <td>2</td>\n",
       "    </tr>\n",
       "    <tr>\n",
       "      <th>1</th>\n",
       "      <td>[1010, 0010, 0100, 0110, 0001, 0011, 1100, 0111]</td>\n",
       "      <td>0</td>\n",
       "      <td>3.489802</td>\n",
       "      <td>3</td>\n",
       "    </tr>\n",
       "    <tr>\n",
       "      <th>2</th>\n",
       "      <td>[0011, 0111, 0010, 1101, 1011, 0001, 1110, 0100]</td>\n",
       "      <td>0</td>\n",
       "      <td>2.565535</td>\n",
       "      <td>2</td>\n",
       "    </tr>\n",
       "    <tr>\n",
       "      <th>3</th>\n",
       "      <td>[0100, 1110, 0011, 0101, 0010, 1000, 0001, 0111]</td>\n",
       "      <td>0</td>\n",
       "      <td>4.559712</td>\n",
       "      <td>4</td>\n",
       "    </tr>\n",
       "    <tr>\n",
       "      <th>4</th>\n",
       "      <td>[1000, 0001, 0111, 1100, 0110, 0010, 0101, 1011]</td>\n",
       "      <td>0</td>\n",
       "      <td>3.803585</td>\n",
       "      <td>3</td>\n",
       "    </tr>\n",
       "  </tbody>\n",
       "</table>\n",
       "</div>"
      ],
      "text/latex": [
       "\\begin{tabular}{llrrr}\n",
       "\\toprule\n",
       "{} &                                           Solução &  Função-objetivo &  Tempo (seg.) &  Iterações \\\\\n",
       "\\midrule\n",
       "0 &  [0110, 0100, 0001, 0111, 1101, 0011, 1000, 0010] &                0 &      2.740756 &          2 \\\\\n",
       "1 &  [1010, 0010, 0100, 0110, 0001, 0011, 1100, 0111] &                0 &      3.489802 &          3 \\\\\n",
       "2 &  [0011, 0111, 0010, 1101, 1011, 0001, 1110, 0100] &                0 &      2.565535 &          2 \\\\\n",
       "3 &  [0100, 1110, 0011, 0101, 0010, 1000, 0001, 0111] &                0 &      4.559712 &          4 \\\\\n",
       "4 &  [1000, 0001, 0111, 1100, 0110, 0010, 0101, 1011] &                0 &      3.803585 &          3 \\\\\n",
       "\\bottomrule\n",
       "\\end{tabular}\n"
      ],
      "text/plain": [
       "                                            Solução  Função-objetivo  \\\n",
       "0  [0110, 0100, 0001, 0111, 1101, 0011, 1000, 0010]                0   \n",
       "1  [1010, 0010, 0100, 0110, 0001, 0011, 1100, 0111]                0   \n",
       "2  [0011, 0111, 0010, 1101, 1011, 0001, 1110, 0100]                0   \n",
       "3  [0100, 1110, 0011, 0101, 0010, 1000, 0001, 0111]                0   \n",
       "4  [1000, 0001, 0111, 1100, 0110, 0010, 0101, 1011]                0   \n",
       "\n",
       "   Tempo (seg.)  Iterações  \n",
       "0      2.740756          2  \n",
       "1      3.489802          3  \n",
       "2      2.565535          2  \n",
       "3      4.559712          4  \n",
       "4      3.803585          3  "
      ]
     },
     "execution_count": 34,
     "metadata": {},
     "output_type": "execute_result"
    }
   ],
   "source": [
    "tabelaAG.head(5)"
   ]
  },
  {
   "cell_type": "code",
   "execution_count": 35,
   "metadata": {},
   "outputs": [
    {
     "name": "stdout",
     "output_type": "stream",
     "text": [
      "Média e desvio padrão da função-objetivo: 0.0 ± 0.0 ataques\n",
      "Média e desvio padrão do tempo gasto: 3.268 ± 1.509 segundos\n",
      "Média e desvio padrão das iterações gastas: 2.88 ± 1.722\n"
     ]
    }
   ],
   "source": [
    "print(f\"Média e desvio padrão da função-objetivo: {tabelaAG['Função-objetivo'].mean()} ± {tabelaAG['Função-objetivo'].std()} ataques\\n\"\n",
    "      f\"Média e desvio padrão do tempo gasto: {np.round(tabelaAG['Tempo (seg.)'].mean(), 3)} ± {np.round(tabelaAG['Tempo (seg.)'].std(), 3)} segundos\\n\"\n",
    "      f\"Média e desvio padrão das iterações gastas: {np.round(tabelaAG['Iterações'].mean(), 3)} ± {np.round(tabelaAG['Iterações'].std(), 3)}\")"
   ]
  },
  {
   "cell_type": "markdown",
   "metadata": {},
   "source": [
    "### Comente e mostre o código fonte do algoritmo desenvolvido."
   ]
  },
  {
   "cell_type": "markdown",
   "metadata": {},
   "source": []
  }
 ],
 "metadata": {
  "kernelspec": {
   "display_name": "Python [conda env:dss] *",
   "language": "python",
   "name": "conda-env-dss-py"
  },
  "language_info": {
   "codemirror_mode": {
    "name": "ipython",
    "version": 3
   },
   "file_extension": ".py",
   "mimetype": "text/x-python",
   "name": "python",
   "nbconvert_exporter": "python",
   "pygments_lexer": "ipython3",
   "version": "3.8.5"
  }
 },
 "nbformat": 4,
 "nbformat_minor": 4
}
