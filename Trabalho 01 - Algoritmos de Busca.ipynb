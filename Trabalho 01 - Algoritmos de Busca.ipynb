{
 "cells": [
  {
   "cell_type": "markdown",
   "metadata": {},
   "source": [
    "Este trabalho é referente à disciplina de Inteligência Artificial do curso de Bacharelado em Ciência da Computação na Universidade Federal do Pará. Ele propõe a implementação de uma versão do algoritmo **_Stochastic Hill Climbing_** (**_Simulated Annealing_**) e de uma meta-heurística (**_Genetic Algorithm_**) para a resolução do **problema das oito rainhas**.\n",
    "\n",
    "Integrantes:\n",
    "\n",
    "- [201804940002] Eduardo Gil Serrão Cardoso\n",
    "- [201804940016] Gabriela Souza Maximino\n",
    "- [201704940007] Igor Matheus Souza Moreira\n",
    "\n",
    "**Observação:** antes de interagir com o código no Jupyter Notebook/Lab, é importante observar que certas células anteriores à que se quer executar podem ser necessárias. A fim de evitar isso, é importante certificar-se de executar ao menos uma vez todas as células contendo definições de funções ou importações de módulos."
   ]
  },
  {
   "cell_type": "markdown",
   "metadata": {},
   "source": [
    "1. [Requisitos](#Requisitos)\n",
    "    1. [Ambiente](#Ambiente)\n",
    "    2. [Funções de checagem](#Funções-de-checagem)\n",
    "2. [Modelagem do tabuleiro e da função-objetivo](#Definição-do-tabuleiro-e-da-função-objetivo)\n",
    "    1. [Funções auxiliares relacionadas ao tabuleiro](#Funções-auxiliares-relacionadas-ao-tabuleiro)\n",
    "    2. [A classe `Tabuleiro`](#A-classe-Tabuleiro)\n",
    "    3. [A função-objetivo](#A-função-objetivo)\n",
    "3. [Outras definições globais](#Outras-definições-globais)\n",
    "    1. [Heurísticas adotadas](#Heurísticas-adotadas)\n",
    "    2. [Critérios de parada adotados](#Critérios-de-parada-adotados)\n",
    "4. [Problemas](#Problemas)\n",
    "    1. [_Stochastic Hill Climbing: Simulated Annealing_](#Stochastic-Hill-Climbing:-Simulated-Annealing)\n",
    "        1. [Implementação do SA](#Implementação-do-SA)\n",
    "            1. [Funções auxiliares ao SA](#Funções-auxiliares-ao-SA)\n",
    "            2. [Algoritmo principal SA](#Algoritmo-principal-SA)\n",
    "        4. [Heurísticas e critérios de parada do SA](#Heurísticas-e-critérios-de-parada-do-SA)\n",
    "        5. [Resultados do SA](#Resultados-do-SA)\n",
    "    2. [_Meta-heuristic: Genetic Algorithm_](#Meta-heuristic:-Genetic-Algorithm)\n",
    "        1. [Implementação do GA](#Implementação-do-GA)\n",
    "            1. [Funções auxiliares ao GA](#Funções-auxiliares-ao-GA)\n",
    "            2. [Algoritmo principal GA](#Algoritmo-principal-GA)\n",
    "        2. [Operadores do GA](#Operadores-do-GA)\n",
    "        3. [Resultados do GA](#Resultados-do-GA)\n",
    "5. [Considerações finais](#Considerações-finais)"
   ]
  },
  {
   "cell_type": "markdown",
   "metadata": {},
   "source": [
    "# Requisitos"
   ]
  },
  {
   "cell_type": "markdown",
   "metadata": {},
   "source": [
    "## Ambiente"
   ]
  },
  {
   "cell_type": "markdown",
   "metadata": {},
   "source": [
    "Este trabalho foi feito utilizando a seguinte linguagem de programação:\n",
    "\n",
    "- `python` 3.8.5\n",
    "\n",
    "Em adição, os seguintes módulos precisam estar instalados no ambiente em que este notebook for executado:\n",
    "\n",
    "- `ipypublish` 0.10.12\n",
    "- `matplotlib` 3.3.2\n",
    "- `numpy` 1.19.2\n",
    "- `pandas` 1.1.4\n",
    "- `scipy` 1.5.3\n",
    "- `seaborn` 0.11.0\n",
    "\n",
    "Observe que o código pode funcionar em versões distintas às que foram mencionadas acima; contudo, sabe-se que a sua execução é garantida nas versões mencionadas."
   ]
  },
  {
   "cell_type": "code",
   "execution_count": 1,
   "metadata": {},
   "outputs": [],
   "source": [
    "import decimal as d\n",
    "import numpy as np\n",
    "import random as r\n",
    "import seaborn as sns\n",
    "import typing as t\n",
    "\n",
    "from ipypublish import nb_setup\n",
    "from scipy import stats\n",
    "from timeit import default_timer as timer"
   ]
  },
  {
   "cell_type": "code",
   "execution_count": 2,
   "metadata": {},
   "outputs": [],
   "source": [
    "plt = nb_setup.setup_matplotlib(output=('pdf',), usetex=False, rcparams={'axes.facecolor': 'white', 'figure.facecolor': 'white'})\n",
    "pd = nb_setup.setup_pandas(escape_latex=True)"
   ]
  },
  {
   "cell_type": "markdown",
   "metadata": {},
   "source": [
    "## Funções de checagem"
   ]
  },
  {
   "cell_type": "markdown",
   "metadata": {},
   "source": [
    "Uma vez configurado o ambiente em que este notebook será executado, é necessário definir algumas funções de checagem que serão utilizadas mais adiante:"
   ]
  },
  {
   "cell_type": "code",
   "execution_count": 3,
   "metadata": {},
   "outputs": [],
   "source": [
    "def verifica_comprimento_binario_igual_a(**parametros):\n",
    "    numero_de_parametros = len(parametros.keys())\n",
    "\n",
    "    if numero_de_parametros != 2:\n",
    "        raise ValueError(f\"Apenas um parâmetro pode ser passado para esta função. Foram recebidos {numero_de_parametros}.\")\n",
    "\n",
    "    parametro, outro_parametro = parametros.keys()\n",
    "\n",
    "    valor, descricao = parametros[parametro]\n",
    "    outro_valor, outra_descricao = parametros[outro_parametro]\n",
    "\n",
    "    if outro_valor is not None and len(valor) != outro_valor:\n",
    "        raise ValueError(f\"O comprimento do {descricao} {parametro}, em binário, precisa ser igual ao {outra_descricao} {outro_parametro}.\")"
   ]
  },
  {
   "cell_type": "code",
   "execution_count": 4,
   "metadata": {},
   "outputs": [],
   "source": [
    "def verifica_comprimento_maior_ou_igual_a(**parametros):\n",
    "    numero_de_parametros = len(parametros.keys())\n",
    "\n",
    "    if numero_de_parametros != 2:\n",
    "        raise ValueError(f\"Apenas um parâmetro pode ser passado para esta função. Foram recebidos {numero_de_parametros}.\")\n",
    "\n",
    "    parametro, outro_parametro = parametros.keys()\n",
    "\n",
    "    valor, descricao = parametros[parametro]\n",
    "    outro_valor, outra_descricao = parametros[outro_parametro]\n",
    "\n",
    "    if outro_valor is not None and len(valor) < outro_valor:\n",
    "        raise ValueError(f\"O {descricao} {parametro} precisa receber um valor, no mínimo, igual ao {outra_descricao} {outro_parametro}.\")"
   ]
  },
  {
   "cell_type": "code",
   "execution_count": 5,
   "metadata": {},
   "outputs": [],
   "source": [
    "def verifica_comprimento_menor_ou_igual_a(**parametros):\n",
    "    numero_de_parametros = len(parametros.keys())\n",
    "\n",
    "    if numero_de_parametros != 2:\n",
    "        raise ValueError(f\"Apenas um parâmetro pode ser passado para esta função. Foram recebidos {numero_de_parametros}.\")\n",
    "\n",
    "    parametro, outro_parametro = parametros.keys()\n",
    "\n",
    "    valor, descricao = parametros[parametro]\n",
    "    outro_valor, outra_descricao = parametros[outro_parametro]\n",
    "\n",
    "    if outro_valor is not None and len(valor) > outro_valor:\n",
    "        raise ValueError(f\"O comprimento do {descricao} {parametro} precisa ser, no máximo, igual ao {outra_descricao} {outro_parametro}.\")"
   ]
  },
  {
   "cell_type": "code",
   "execution_count": 6,
   "metadata": {},
   "outputs": [],
   "source": [
    "def verifica_dtype(**parametro_dict):\n",
    "    numero_de_parametros = len(parametro_dict.keys())\n",
    "\n",
    "    if numero_de_parametros != 1:\n",
    "        raise ValueError(f\"Apenas um parâmetro pode ser passado para esta função. Foram recebidos {numero_de_parametros}.\")\n",
    "\n",
    "    parametro = list(parametro_dict.keys())[0]\n",
    "    valor, descricao, dtype = parametro_dict[parametro]\n",
    "\n",
    "    if dtype == np.int_ and valor.dtype != dtype:\n",
    "        if valor.dtype == np.float_:\n",
    "            return valor.astype(np.int_)\n",
    "        else:\n",
    "            raise TypeError(f\"O {descricao} {parametro} precisa ser um numpy array com atributo dtype igual a {dtype}. O dtype do numpy array recebido é {valor.dtype}.\")\n",
    "\n",
    "    if valor.dtype != dtype:\n",
    "        raise TypeError(f\"O {descricao} {parametro} precisa ser um numpy array com atributo dtype igual a {dtype}. O dtype do numpy array recebido é {valor.dtype}.\")\n",
    "    else:\n",
    "        return valor"
   ]
  },
  {
   "cell_type": "code",
   "execution_count": 7,
   "metadata": {},
   "outputs": [],
   "source": [
    "def verifica_maior_ou_igual_a(**parametros):\n",
    "    numero_de_parametros = len(parametros.keys())\n",
    "\n",
    "    if numero_de_parametros != 2:\n",
    "        raise ValueError(f\"Apenas um parâmetro pode ser passado para esta função. Foram recebidos {numero_de_parametros}.\")\n",
    "\n",
    "    parametro, outro_parametro = parametros.keys()\n",
    "\n",
    "    valor, descricao = parametros[parametro]\n",
    "    outro_valor, outra_descricao = parametros[outro_parametro]\n",
    "\n",
    "    if outro_valor is not None and valor < outro_valor:\n",
    "        raise ValueError(f\"O {descricao} {parametro} precisa receber um valor, no mínimo, igual ao {outra_descricao} {outro_parametro}.\")"
   ]
  },
  {
   "cell_type": "code",
   "execution_count": 8,
   "metadata": {},
   "outputs": [],
   "source": [
    "def verifica_menor_ou_igual_a(**parametros):\n",
    "    numero_de_parametros = len(parametros.keys())\n",
    "\n",
    "    if numero_de_parametros != 2:\n",
    "        raise ValueError(f\"Apenas um parâmetro pode ser passado para esta função. Foram recebidos {numero_de_parametros}.\")\n",
    "\n",
    "    parametro, outro_parametro = parametros.keys()\n",
    "\n",
    "    valor, descricao = parametros[parametro]\n",
    "    outro_valor, outra_descricao = parametros[outro_parametro]\n",
    "\n",
    "    if outro_valor is not None and valor > outro_valor:\n",
    "        raise ValueError(f\"O {descricao} {parametro} precisa receber um valor, no máximo, igual ao {outra_descricao} {outro_parametro}.\")"
   ]
  },
  {
   "cell_type": "code",
   "execution_count": 9,
   "metadata": {},
   "outputs": [],
   "source": [
    "def verifica_nao_negatividade(**parametros):\n",
    "    for parametro in parametros.keys():\n",
    "        valor, descricao = parametros[parametro]\n",
    "\n",
    "        if valor < 0:\n",
    "            raise ValueError(f\"O {descricao} {parametro} precisa receber um número não-negativo.\")"
   ]
  },
  {
   "cell_type": "code",
   "execution_count": 10,
   "metadata": {},
   "outputs": [],
   "source": [
    "def verifica_ndim(**parametros):\n",
    "    for parametro in parametros.keys():\n",
    "        valor, descricao, ndim = parametros[parametro]\n",
    "\n",
    "        if valor.ndim != ndim:\n",
    "            raise ValueError(f\"O o atributo ndim do {descricao} {parametro} precisa ser igual a {ndim}.\")"
   ]
  },
  {
   "cell_type": "code",
   "execution_count": 11,
   "metadata": {},
   "outputs": [],
   "source": [
    "def verifica_tipo(**parametro_dict):\n",
    "    numero_de_parametros = len(parametro_dict.keys())\n",
    "\n",
    "    if numero_de_parametros != 1:\n",
    "        raise ValueError(f\"Apenas um parâmetro pode ser passado para esta função. Foram recebidos {numero_de_parametros}.\")\n",
    "\n",
    "    parametro = list(parametro_dict.keys())[0]\n",
    "    valor, descricao, tipos = parametro_dict[parametro]\n",
    "\n",
    "    if tipos == t.SupportsFloat:\n",
    "        if not isinstance(valor, tipos):\n",
    "            raise TypeError(f\"O {descricao} {parametro} precisa receber um número de ponto flutuante ou um objeto que possa ser convertido para tal.\")\n",
    "        else:\n",
    "            return float(valor)\n",
    "\n",
    "    if tipos == t.SupportsInt:\n",
    "        if not isinstance(valor, tipos):\n",
    "            raise TypeError(f\"O {descricao} {parametro} precisa receber um número inteiro ou um objeto que possa ser convertido para tal.\")\n",
    "        else:\n",
    "            return int(valor)\n",
    "\n",
    "    if tipos == np.ndarray:\n",
    "        if not isinstance(valor, np.ndarray):\n",
    "            if not isinstance(valor, (list, tuple)):\n",
    "                raise TypeError(f\"O {descricao} {parametro} precisa receber um array numpy ou um objeto que possa ser convertido para tal.\")\n",
    "            else:\n",
    "                return np.array(valor)\n",
    "\n",
    "    if tipos == bool:\n",
    "        if not isinstance(valor, bool):\n",
    "            if isinstance(valor, np.bool_):\n",
    "                return bool(valor)\n",
    "            else:\n",
    "                raise TypeError(f\"O {descricao} {parametro} precisa receber um objeto booleano ou um objeto que possa ser convertido para tal.\")\n",
    "        else:\n",
    "            return valor\n",
    "\n",
    "    if not isinstance(valor, tipos):\n",
    "        raise TypeError(f\"O {descricao} {parametro} precisa receber um objeto de classe {tipos} ou que herde dela.\")\n",
    "    else:\n",
    "        return valor"
   ]
  },
  {
   "cell_type": "code",
   "execution_count": 12,
   "metadata": {},
   "outputs": [],
   "source": [
    "def verifica_tipo_operador(operador, valor, tipo):\n",
    "    if not isinstance(valor, tipo):\n",
    "        raise TypeError(f\"O operador '{operador}' precisa ser do tipo {tipo}.\")"
   ]
  },
  {
   "cell_type": "markdown",
   "metadata": {},
   "source": [
    "# Modelagem do tabuleiro e da função-objetivo"
   ]
  },
  {
   "cell_type": "markdown",
   "metadata": {},
   "source": [
    "Uma vez que ambos os algoritmos a serem discutidos aqui – _Simulated Annealing_ e _Genetic Algorithm_ — são utilizados para resolver o mesmo problema – o problema das oito rainhas –, optou-se por definir uma classe comumente utilizada por ambos os algoritmos, intitulada `Tabuleiro`."
   ]
  },
  {
   "cell_type": "markdown",
   "metadata": {},
   "source": [
    "## Funções auxiliares relacionadas ao tabuleiro"
   ]
  },
  {
   "cell_type": "markdown",
   "metadata": {},
   "source": [
    "Antes de definirmos a classe `Tabuleiro`, precisamos definir algumas funções para auxiliar na representação e nas operações da classe quando a codificação binária estiver ativada."
   ]
  },
  {
   "cell_type": "code",
   "execution_count": 13,
   "metadata": {},
   "outputs": [],
   "source": [
    "def ajusta_indentacao(string, string_para_adicionar):\n",
    "    string = verifica_tipo(string=(string, \"parâmetro\", str))\n",
    "    string_para_adicionar = verifica_tipo(string_para_adicionar=(string_para_adicionar, \"parâmetro\", str))\n",
    "    \n",
    "    linhas = string.split(\"\\n\")\n",
    "\n",
    "    for linha in range(1, len(linhas)):\n",
    "        linhas[linha] = string_para_adicionar + linhas[linha]\n",
    "\n",
    "    return \"\\n\".join(linhas)"
   ]
  },
  {
   "cell_type": "code",
   "execution_count": 14,
   "metadata": {},
   "outputs": [],
   "source": [
    "def binario_para_decimal(bits):\n",
    "    bits = verifica_tipo(bits=(bits, \"parâmetro\", np.ndarray))\n",
    "\n",
    "    return int(\"\".join(bits.astype(np.int_).astype(str)), base=2) - 1"
   ]
  },
  {
   "cell_type": "code",
   "execution_count": 15,
   "metadata": {},
   "outputs": [],
   "source": [
    "def decimal_para_binario(numero, numero_de_bits):\n",
    "    numero = verifica_tipo(numero=(numero, \"parâmetro\", t.SupportsInt))\n",
    "    digitos_binarios = list(bin(numero + 1)[2:].zfill(numero_de_bits))\n",
    "\n",
    "    verifica_comprimento_binario_igual_a(numero=(digitos_binarios, \"parâmetro\"), numero_de_bits=(numero_de_bits, \"parâmetro\"))\n",
    "\n",
    "    return np.array(digitos_binarios, dtype=np.int_).astype(np.bool_)"
   ]
  },
  {
   "cell_type": "markdown",
   "metadata": {},
   "source": [
    "## A classe `Tabuleiro`"
   ]
  },
  {
   "cell_type": "markdown",
   "metadata": {},
   "source": [
    "Uma vez definidas as funções auxiliares, definamos agora a classe `Tabuleiro`. Alguns recursos permitidos por esta implementação incluem\n",
    "\n",
    "- suporte às notações binária e decimal (i.e., inteira), com possibilidade de alteração entre notações após a inicialização do objeto;\n",
    "- suporte a operadores e funções internas ao `python`, como `__str__`, `__repr__`, `__lt__` (`<`), `__eq__` (`=`), `__gt__` (`>`) e outras;\n",
    "- verificação de ataques (i.e., a função objetivo definida para este problema);\n",
    "- homogeneização das heurísticas adotadas na inicialização (no caso, não aceitar rainhas na mesma linha ou na mesma coluna);\n",
    "- suporte a diferentes tamanhos de tabuleiro e números de rainhas (o que quer dizer que `Tabuleiro` representa também a _ausência_ de rainhas),\n",
    "\n",
    "entre outros. Embora se tenha o entendimento de que alguns recursos da implementação não serão utilizados na resolução dos exercícios ora propostos (e.g., o último recurso citado), eles compõem a implementação e a tornam mais flexível, aumentando a possibilidade de reciclagem desta peça de código para outros fins."
   ]
  },
  {
   "cell_type": "code",
   "execution_count": 1,
   "metadata": {},
   "outputs": [],
   "source": [
    "class Tabuleiro:\n",
    "    def __init__(self, *, binario=False, lado_tabuleiro=8, n_rainhas=8, rainhas=None):\n",
    "        self.__lado_tabuleiro, self.__n_rainhas, self.__rainhas, self.__valor = None, None, None, np.inf\n",
    "\n",
    "        self.binario = binario\n",
    "        self.lado_tabuleiro = lado_tabuleiro\n",
    "        self.n_rainhas = n_rainhas\n",
    "\n",
    "        if rainhas is not None:\n",
    "            self.rainhas = rainhas\n",
    "\n",
    "    @property\n",
    "    def binario(self):\n",
    "        return self.__binario\n",
    "\n",
    "    @binario.setter\n",
    "    def binario(self, novo_binario):\n",
    "        novo_binario = verifica_tipo(binario=(novo_binario, \"atributo\", (bool, np.bool_)))\n",
    "\n",
    "        self.__binario = novo_binario\n",
    "\n",
    "        if self.__rainhas is not None:\n",
    "            if novo_binario is True:\n",
    "                numero_de_casas = np.ceil(np.log2(self.lado_tabuleiro + 1)).astype(np.int_)\n",
    "                self.rainhas = [decimal_para_binario(posicao, numero_de_casas) for posicao in self.rainhas]\n",
    "            else:\n",
    "                self.rainhas = [binario_para_decimal(posicao) for posicao in self.rainhas]\n",
    "\n",
    "    @property\n",
    "    def lado_tabuleiro(self):\n",
    "        return self.__lado_tabuleiro\n",
    "\n",
    "    @lado_tabuleiro.setter\n",
    "    def lado_tabuleiro(self, novo_lado_tabuleiro):\n",
    "        novo_lado_tabuleiro = verifica_tipo(lado_tabuleiro=(novo_lado_tabuleiro, \"atributo\", t.SupportsInt))\n",
    "\n",
    "        verifica_nao_negatividade(lado_tabuleiro=(novo_lado_tabuleiro, \"atributo\"))\n",
    "        verifica_maior_ou_igual_a(lado_tabuleiro=(novo_lado_tabuleiro, \"atributo\"), n_rainhas=(self.n_rainhas, \"atributo\"))\n",
    "\n",
    "        self.__lado_tabuleiro = novo_lado_tabuleiro\n",
    "\n",
    "    @property\n",
    "    def n_rainhas(self):\n",
    "        return self.__n_rainhas\n",
    "\n",
    "    @n_rainhas.setter\n",
    "    def n_rainhas(self, novo_n_rainhas):\n",
    "        novo_n_rainhas = verifica_tipo(n_rainhas=(novo_n_rainhas, \"atributo\", t.SupportsInt))\n",
    "\n",
    "        verifica_nao_negatividade(n_rainhas=(novo_n_rainhas, \"atributo\"))\n",
    "        verifica_menor_ou_igual_a(n_rainhas=(novo_n_rainhas, \"atributo\"), lado_tabuleiro=(self.lado_tabuleiro, \"atributo\"))\n",
    "\n",
    "        self.__n_rainhas = novo_n_rainhas\n",
    "\n",
    "        self.aleatoriza_rainhas()\n",
    "\n",
    "    def aleatoriza_rainhas(self):\n",
    "        posicoes = np.random.choice(self.lado_tabuleiro, self.n_rainhas, replace=False)\n",
    "\n",
    "        if self.binario is True:\n",
    "            digitos_necessarios = np.ceil(np.log2(self.lado_tabuleiro + 1)).astype(np.int_)\n",
    "            rainhas = np.empty((self.lado_tabuleiro, digitos_necessarios), dtype=np.bool_)\n",
    "            rainhas[:self.n_rainhas, :] = [decimal_para_binario(posicao, digitos_necessarios) for posicao in posicoes]\n",
    "            rainhas[self.n_rainhas:, :] = np.False_\n",
    "        else:\n",
    "            rainhas = np.empty(self.lado_tabuleiro, dtype=np.int_)\n",
    "\n",
    "            rainhas[:self.n_rainhas] = posicoes\n",
    "            rainhas[self.n_rainhas:] = -1\n",
    "\n",
    "        self.rainhas = rainhas\n",
    "\n",
    "    @property\n",
    "    def rainhas(self):\n",
    "        return self.__rainhas.copy() if self.__rainhas is not None else None\n",
    "\n",
    "    @rainhas.setter\n",
    "    def rainhas(self, novo_rainhas):\n",
    "        novo_rainhas = verifica_tipo(rainhas=(novo_rainhas, \"atributo\", np.ndarray))\n",
    "\n",
    "        verifica_comprimento_menor_ou_igual_a(rainhas=(novo_rainhas, \"atributo\"), lado_tabuleiro=(self.lado_tabuleiro, \"atributo\"))\n",
    "\n",
    "        if self.binario is True:\n",
    "            novo_rainhas = verifica_dtype(rainhas=(novo_rainhas, \"atributo\", np.bool_))\n",
    "\n",
    "            verifica_ndim(rainhas=(novo_rainhas, \"atributo\", 2))\n",
    "\n",
    "            if novo_rainhas.shape[0] < self.lado_tabuleiro:\n",
    "                diferenca = self.lado_tabuleiro - novo_rainhas.shape[0]\n",
    "                novo_rainhas = np.concatenate((novo_rainhas, diferenca * [[np.False_, np.False_, np.False_]]))\n",
    "        else:\n",
    "            novo_rainhas = verifica_dtype(rainhas=(novo_rainhas, \"atributo\", np.int_))\n",
    "\n",
    "            verifica_ndim(rainhas=(novo_rainhas, \"atributo\", 1))\n",
    "\n",
    "            if novo_rainhas.shape[0] < self.lado_tabuleiro:\n",
    "                diferenca = self.lado_tabuleiro - novo_rainhas.shape[0]\n",
    "                novo_rainhas = np.append(novo_rainhas, diferenca * [-1])\n",
    "\n",
    "        self.__rainhas = novo_rainhas\n",
    "\n",
    "        self.calcula_valor()\n",
    "\n",
    "    def calcula_valor(self):\n",
    "        ataques = 0\n",
    "\n",
    "        for indice_rainha in range(self.n_rainhas):\n",
    "            for indice_prox_rainha in range(indice_rainha + 1, self.n_rainhas):\n",
    "                ataques += self.ha_ataque(indice_rainha, indice_prox_rainha)  \n",
    "                \n",
    "        self.__valor = ataques\n",
    "\n",
    "    @property\n",
    "    def valor(self):\n",
    "        return self.__valor\n",
    "\n",
    "    def ha_ataque(self, indice_a, indice_b):\n",
    "        if self.binario is True:\n",
    "            iterador = (binario_para_decimal(posicao) for posicao in self.rainhas)\n",
    "            rainhas = np.fromiter(iterador, np.int_, self.n_rainhas)\n",
    "        else:\n",
    "            rainhas = self.rainhas\n",
    "\n",
    "        indice_a = verifica_tipo(indice_a=(indice_a, \"parâmetro\", t.SupportsInt))\n",
    "        indice_b = verifica_tipo(indice_b=(indice_b, \"parâmetro\", t.SupportsInt))\n",
    "\n",
    "        ha_ataque_diagonal = (indice_b - indice_a) == abs(rainhas[indice_b] - rainhas[indice_a])\n",
    "\n",
    "        return ha_ataque_diagonal\n",
    "\n",
    "    @property\n",
    "    def ha_rainhas_na_mesma_linha(self):\n",
    "        if self.binario is True:\n",
    "            iterador = (binario_para_decimal(posicao) for posicao in self.rainhas)\n",
    "            rainhas = np.fromiter(iterador, np.int_, self.n_rainhas)\n",
    "        else:\n",
    "            rainhas = self.rainhas\n",
    "\n",
    "        rainhas = rainhas[rainhas != -1]\n",
    "\n",
    "        return True if rainhas.shape[0] != np.unique(rainhas).shape[0] else False\n",
    "\n",
    "    def __sub__(self, outro):\n",
    "        verifica_tipo_operador('-', outro, Tabuleiro)\n",
    "\n",
    "        return self.valor - outro.valor\n",
    "\n",
    "    def __lt__(self, outro):\n",
    "        verifica_tipo_operador('<', outro, Tabuleiro)\n",
    "\n",
    "        return self.valor < outro.valor\n",
    "\n",
    "    def __gt__(self, outro):\n",
    "        verifica_tipo_operador('>', outro, Tabuleiro)\n",
    "\n",
    "        return self.valor > outro.valor\n",
    "\n",
    "    def __eq__(self, outro):\n",
    "        verifica_tipo_operador('==', outro, Tabuleiro)\n",
    "\n",
    "        return self.valor == outro.valor\n",
    "\n",
    "    def __repr__(self):\n",
    "        if self.binario is False:\n",
    "            representacao_rainhas = str(self.rainhas)\n",
    "            tipo = \"Decimal\"\n",
    "        else:\n",
    "            representacao_rainhas = caixinha.ajusta_indentacao(str(self.rainhas), 12 * ' ')\n",
    "            tipo = \"Binário\"\n",
    "\n",
    "        return f\"[Tabuleiro] {representacao_rainhas} | {self.valor} ataques | {tipo}\"\n",
    "\n",
    "    def __str__(self):\n",
    "        if self.binario is False:\n",
    "            return str(self.rainhas.tolist())\n",
    "        else:\n",
    "            representacao = []\n",
    "\n",
    "            for rainha in self.rainhas:\n",
    "                string = \"\"\n",
    "\n",
    "                for bit in rainha:\n",
    "                    if bit is np.True_:\n",
    "                        string += \"1\"\n",
    "                    else:\n",
    "                        string += \"0\"\n",
    "\n",
    "                representacao.append(string)\n",
    "\n",
    "            return str(representacao).replace(\"'\", \"\")\n",
    "\n",
    "    def __len__(self):\n",
    "        return self.n_rainhas"
   ]
  },
  {
   "cell_type": "markdown",
   "metadata": {},
   "source": [
    "## A função-objetivo"
   ]
  },
  {
   "cell_type": "markdown",
   "metadata": {},
   "source": [
    "A função objetivo utilizada, retornada por `Tabuleiro.valor` e calculada em `Tabuleiro.calcula_valor()`, verifica a existência de ataques de rainhas no tabuleiro na diagonal, uma vez que as heurísticas adotadas não permitem rainhas na mesma coluna ou linha. Ela é utilizada por ambos os algoritmos solicitados pela atividade, que serão descritos mais adiante neste documento. Sua representação é mostrada abaixo:\n",
    "\n",
    "`ha_ataque_diagonal = (indice_b - indice_a) == abs(rainhas[indice_b] - rainhas[indice_a])`\n",
    "\n",
    "Dado que o tabuleiro é representado por um vetor com $n$ elementos tal que o valor de cada elemento da posição $i$ representa a linha onde a rainha se encontra nessa mesma coluna $i$, percorre-se esse vetor varrendo para cada elemento da posição `indice_a` os elementos seguintes que estão na posição `indice_b`. \n",
    "\n",
    "Para detectar ataques diagonais, verifica-se se a diferença entre o `indice_b` e `indice_a` é igual ao valor absoluto da diferença entre o item da posição `indice_b` e o item da posição `indice_a`. Esta regra foi utilizada pois observou-se que os elementos da diagonal estão uma (ou mais) coluna(s) na frente e uma (ou mais) linha(s) abaixo do elemento anterior a eles na diagonal (exceto pelo primeiro elemento, que não possui elemento anterior). Dessa forma, a diferença entre os valores da coluna e a diferença entre os valores da linha dos elementos _a_ e _b_ será igual quando eles estiverem na mesma diagonal. Por isso a diferença entre as colunas, representados por `indice_b` e `indice_a`, e a diferença entre as linhas, que são os valores armazenados nos vetores, representados por `rainhas[indice_b]` e `rainhas[indice_a]`, são calculadas.\n",
    "\n",
    "Com isso, caso algum ataque seja detectado, soma-se 1 ao valor do tabuleiro."
   ]
  },
  {
   "cell_type": "markdown",
   "metadata": {},
   "source": [
    "# Outras definições globais"
   ]
  },
  {
   "cell_type": "markdown",
   "metadata": {},
   "source": [
    "Antes de seguirmos às resoluções para os problemas da atividade, definamos aqui alguns aspectos globalmente aplicados a ambos os algoritmos."
   ]
  },
  {
   "cell_type": "markdown",
   "metadata": {},
   "source": [
    "## Heurísticas adotadas"
   ]
  },
  {
   "cell_type": "markdown",
   "metadata": {},
   "source": [
    "Como conhecimento prévio estipulado pelo projetista, foi estipulado que as rainhas não podem estar em uma mesma coluna ou linha. Quaisquer soluções que não adiram a esses requisitos são descartadas."
   ]
  },
  {
   "cell_type": "markdown",
   "metadata": {},
   "source": [
    "## Critérios de parada adotados"
   ]
  },
  {
   "cell_type": "markdown",
   "metadata": {},
   "source": [
    "Dois critérios de parada são adotados por ambos os algoritmos:\n",
    "\n",
    "1. quando o número máximo de iterações for atingido; e\n",
    "2. quando uma solução ótima for encontrada."
   ]
  },
  {
   "cell_type": "markdown",
   "metadata": {},
   "source": [
    "# Problemas"
   ]
  },
  {
   "cell_type": "markdown",
   "metadata": {},
   "source": [
    "Com o auxílio das definições-suporte feitas acima, podemos seguir para as que dizem respeito aos algoritmos. Antes de fazê-lo, contudo, é necessário que definamos uma função para os experimentos que serão conduzidos, a fim de se produzirem as tabelas, gráficos e informações estipuladas em algumas alíneas desta atividade."
   ]
  },
  {
   "cell_type": "code",
   "execution_count": 17,
   "metadata": {},
   "outputs": [],
   "source": [
    "def executa_experimento(funcao, n_execucoes=50, verboso=True):\n",
    "    n_execucoes = verifica_tipo(n_execucoes=(n_execucoes, \"parâmetro\", t.SupportsInt))\n",
    "    verboso = verifica_tipo(verboso=(verboso, \"parâmetro\", (bool, np.bool_)))\n",
    "    \n",
    "    melhores_solucoes = np.empty((n_execucoes, 1), dtype=np.object_)\n",
    "    melhores_valores = np.empty((n_execucoes, 1), dtype=np.int_)\n",
    "    tempos_gastos = np.empty((n_execucoes, 1), dtype=np.float_)\n",
    "    iteracoes_gastas = np.empty((n_execucoes, 1), dtype=np.int_)\n",
    "\n",
    "    for e in range(n_execucoes):\n",
    "        if verboso is True:\n",
    "            print(f\"Execução {e + 1}...\", end=\"\\r\")\n",
    "\n",
    "        tempos_gastos[e, 0] = timer()\n",
    "        melhores_solucoes[e, 0], iteracoes_gastas[e, 0] = funcao()\n",
    "        tempos_gastos[e, 0] = timer() - tempos_gastos[e, 0]\n",
    "        melhores_valores[e, 0] = melhores_solucoes[e, 0].valor\n",
    "        melhores_solucoes[e, 0] = str(melhores_solucoes[e, 0])\n",
    "\n",
    "    tabela = np.concatenate((melhores_solucoes, melhores_valores, tempos_gastos, iteracoes_gastas), axis=1)\n",
    "    tabela = pd.DataFrame(tabela, columns=[\"Solução\", \"Função-objetivo\", \"Tempo (seg.)\", \"Iterações\"]).infer_objects()\n",
    "\n",
    "    figura, eixos = plt.subplots(1, 2, figsize=(10, 5))\n",
    "    \n",
    "    # figura.tight_layout()\n",
    "    eixos[0].set_xlim(1, 50)\n",
    "    eixos[1].set_xlim(1, 50)\n",
    "\n",
    "    figura.suptitle(f\"Dados da execução do algoritmo {str(funcao).split(' ')[1]}\", y=1.05)\n",
    "\n",
    "    eixos[0].set_title(\"Iterações por execução\")\n",
    "    eixos[1].set_title(\"Tempo por execução (seg.)\")\n",
    "\n",
    "    sns.lineplot(x=range(1, n_execucoes + 1), y=iteracoes_gastas.ravel(), ax=eixos[0])\n",
    "    sns.lineplot(x=range(1, n_execucoes + 1), y=tempos_gastos.ravel(), ax=eixos[1])\n",
    "\n",
    "    if verboso is True:\n",
    "        print(f\"Execução concluída.\")\n",
    "\n",
    "    return tabela, figura"
   ]
  },
  {
   "cell_type": "markdown",
   "metadata": {},
   "source": [
    "Por fim, definamos aqui uma função que desempenhe a análise de correlação linear que faremos mais adiante."
   ]
  },
  {
   "cell_type": "code",
   "execution_count": 18,
   "metadata": {},
   "outputs": [],
   "source": [
    "def verifica_correlacao(funcao, tabela):\n",
    "    tabela_ordenada = tabela.sort_values([\"Iterações\", \"Tempo (seg.)\"])\n",
    "    pearson = stats.pearsonr(tabela['Tempo (seg.)'].to_numpy(), tabela['Iterações'].to_numpy())[0]\n",
    "    figura_correlacao, eixo_correlacao = plt.subplots(1, 1)\n",
    "\n",
    "    figura_correlacao.tight_layout()\n",
    "    figura_correlacao.suptitle(f\"{str(funcao).split(' ')[1]}: Iterações vs. Tempo (seg.)\", y=1.05)\n",
    "\n",
    "    sns.lineplot(x=tabela_ordenada[\"Iterações\"].to_numpy().ravel(), y=tabela_ordenada[\"Tempo (seg.)\"].to_numpy().ravel(), ax=eixo_correlacao)\n",
    "    \n",
    "    return figura_correlacao, pearson"
   ]
  },
  {
   "cell_type": "markdown",
   "metadata": {},
   "source": [
    "## _Stochastic Hill Climbing: Simulated Annealing_"
   ]
  },
  {
   "cell_type": "markdown",
   "metadata": {},
   "source": [
    "Para resolver a primeira questão, que diz respeito ao _Stochastic Hill Climbing_ (SHC), optamos por implementar o _Simulated Annealing_ (SA)."
   ]
  },
  {
   "cell_type": "markdown",
   "metadata": {},
   "source": [
    "### Implementação do SA"
   ]
  },
  {
   "cell_type": "markdown",
   "metadata": {},
   "source": [
    "Antes de seguirmos à resolução para as alíneas referentes a este algoritmo, definamos algumas funções."
   ]
  },
  {
   "cell_type": "markdown",
   "metadata": {},
   "source": [
    "#### Funções auxiliares ao SA"
   ]
  },
  {
   "cell_type": "markdown",
   "metadata": {},
   "source": [
    "Uma função auxiliar necessária precisa produzir um vetor com as temperaturas a serem iteradas pelo algoritmo. Nesta implementação, utilizou-se o decaimento linear da temperatura."
   ]
  },
  {
   "cell_type": "code",
   "execution_count": 19,
   "metadata": {},
   "outputs": [],
   "source": [
    "def gera_temperaturas(temperatura_inicial, variacao):\n",
    "    temperatura_inicial = verifica_tipo(temperatura_inicial=(temperatura_inicial, \"parâmetro\", t.SupportsFloat))\n",
    "    variacao = verifica_tipo(variacao=(variacao, \"parâmetro\", t.SupportsFloat))\n",
    "    \n",
    "    n_iteracoes = np.round(np.floor(temperatura_inicial / variacao))\n",
    "    temperaturas = temperatura_inicial - variacao * np.arange(n_iteracoes)\n",
    "\n",
    "    return temperaturas"
   ]
  },
  {
   "cell_type": "markdown",
   "metadata": {},
   "source": [
    "Por fim, uma segunda função auxiliar é necessária para definir se o algoritmo deve ir para uma solução pior (i.e., uma solução com mais ataques)."
   ]
  },
  {
   "cell_type": "code",
   "execution_count": 20,
   "metadata": {},
   "outputs": [],
   "source": [
    "def tabuleiro_deve_mudar(temperatura, variacao):\n",
    "    temperatura = verifica_tipo(temperatura=(temperatura, \"parâmetro\", t.SupportsFloat))\n",
    "    variacao = verifica_tipo(variacao=(variacao, \"parâmetro\", t.SupportsFloat))\n",
    "    e = float(np.e)\n",
    "\n",
    "    exp = d.Decimal(d.Decimal(e) ** (d.Decimal(variacao) / d.Decimal(temperatura)))\n",
    "\n",
    "    return np.random.uniform() < exp"
   ]
  },
  {
   "cell_type": "markdown",
   "metadata": {},
   "source": [
    "#### Algoritmo principal SA"
   ]
  },
  {
   "cell_type": "markdown",
   "metadata": {},
   "source": [
    "Com base nas definições acima, definamos agora o algoritmo principal."
   ]
  },
  {
   "cell_type": "code",
   "execution_count": 21,
   "metadata": {},
   "outputs": [],
   "source": [
    "def recozimento_simulado(temperatura_inicial=100, variacao=.01, binario=False, verboso=False):\n",
    "    temperatura_inicial = verifica_tipo(temperatura_inicial=(temperatura_inicial, \"parâmetro\", t.SupportsFloat))\n",
    "    variacao = verifica_tipo(variacao=(variacao, \"parâmetro\", t.SupportsFloat))\n",
    "    verboso = verifica_tipo(verboso=(verboso, \"parâmetro\", (bool, np.bool_)))\n",
    "\n",
    "    verifica_menor_ou_igual_a(variacao=(variacao, \"parâmetro\"), temperatura_inicial=(temperatura_inicial, \"parâmetro\"))\n",
    "\n",
    "    tabuleiro_atual = Tabuleiro(binario=binario)\n",
    "    temperaturas = gera_temperaturas(temperatura_inicial, variacao)\n",
    "\n",
    "    if verboso is True:\n",
    "        print(f\"[Iteração -1] {tabuleiro_atual}\")\n",
    "\n",
    "    if tabuleiro_atual.valor == 0:\n",
    "        return tabuleiro_atual, 0\n",
    "\n",
    "    for iteracao, temperatura in enumerate(temperaturas):\n",
    "        tabuleiro_seguinte = Tabuleiro(binario=binario)\n",
    "\n",
    "        if tabuleiro_seguinte.valor == 0:\n",
    "            return tabuleiro_seguinte, iteracao + 1\n",
    "\n",
    "        variacao = tabuleiro_atual - tabuleiro_seguinte\n",
    "        \n",
    "        if variacao > 0:\n",
    "            tabuleiro_atual = tabuleiro_seguinte\n",
    "        elif tabuleiro_deve_mudar(temperatura, variacao):\n",
    "            tabuleiro_atual = tabuleiro_seguinte\n",
    "\n",
    "        if verboso is True:\n",
    "            print(f\"[Iteração {iteracao}] {tabuleiro_atual} [Temperatura {np.round(temperatura, 3)}]\")\n",
    "\n",
    "    if verboso is True:\n",
    "        print(\"A temperatura chegou a zero.\")\n",
    "\n",
    "    return tabuleiro_atual"
   ]
  },
  {
   "cell_type": "markdown",
   "metadata": {},
   "source": [
    "Esta implementação foi realizada nas linhas do pseudo-código exposto na aula para este algoritmo, utilizando a codificação decimal (i.e., inteira). Nota-se que, graças ao suporte tanto à notação decimal quanto binária por parte da classe `Tabuleiro` e à simplicidade deste algoritmo, pode-se utilizar também a decimal ao regular o parâmetro `binario` da função `recozimento_simulado()`.\n",
    "\n",
    "A cada rodada, a temperatura sofre um decaimento seguindo alguma função (neste caso, utilizou-se uma função de decaimento linear cujo coeficiente angular é passado em `variacao`) e um novo posicionamento das rainhas é produzido por meio da criação de uma nova instância da classe `Tabuleiro`. Caso essa solução seja melhor do que a atual (i.e., tenha menos ataques, ou um atributo `valor` menor), o algoritmo a toma como a solução atual. Caso contrário, a função `tabuleiro_deve_mudar()` é chamada passando a temperatura e o coeficiente angular da função de decaimento como parâmetros, de forma que se obtenha uma resposta booleana à seguinte pergunta: \"o algoritmo deve escolher uma solução pior?\" A depender da resposta, o algoritmo pode tomar (ou não) a solução pior como solução atual e seguir para as próximas iterações.\n",
    "\n",
    "O algoritmo cessa sua execução quando a temperatura chega a 0, e retorna a solução atual."
   ]
  },
  {
   "cell_type": "markdown",
   "metadata": {},
   "source": [
    "### Heurísticas e critérios de parada do SA"
   ]
  },
  {
   "cell_type": "markdown",
   "metadata": {},
   "source": [
    "As heurísticas e critérios de parada adotados aqui são os globalmente definidos (rainhas não podem estar na mesma linha nem na mesma coluna). O mesmo vale para os critérios de parada: o algoritmo finaliza sua execução quando\n",
    "\n",
    "1. a temperatura chega a zero (i.e., o vetor de _arrays_ de temperaturas, cujo tamanho depende da temperatura inicial e variação e define o número de iterações, é integralmente percorrido); e\n",
    "2. o número de ataques chega a zero (i.e., `tabuleiro_atual.valor == 0` ou `tabuleiro_seguinte.valor == 0`)."
   ]
  },
  {
   "cell_type": "markdown",
   "metadata": {},
   "source": [
    "### Resultados do SA"
   ]
  },
  {
   "cell_type": "markdown",
   "metadata": {},
   "source": [
    "Podemos obter os resultados pedidos através da função `executa_experimento()`, passando `recozimento_simulado()` pelo parâmetro `funcao`."
   ]
  },
  {
   "cell_type": "code",
   "execution_count": 22,
   "metadata": {},
   "outputs": [
    {
     "name": "stdout",
     "output_type": "stream",
     "text": [
      "Execução concluída.\n"
     ]
    },
    {
     "data": {
      "application/pdf": "[encoded data removed]",
      "text/plain": [
       "<Figure size 1000x500 with 2 Axes>"
      ]
     },
     "metadata": {},
     "output_type": "display_data"
    }
   ],
   "source": [
    "tabelaSA, figuraSA = executa_experimento(recozimento_simulado)"
   ]
  },
  {
   "cell_type": "markdown",
   "metadata": {},
   "source": [
    "Neste primeiro gráfico, temos o detalhamento da execução do algoritmo `recozimento_simulado()`. À esquerda, tem-se o número de iterações por execução; à direita, o tempo por execução em segundos. À primeira vista, nota-se a semelhança no comportamento entre os dois plots e a diferença na escala adotada no eixo das ordenadas pelos dois plots, o que dá a entender que o tempo cresce linearmente em função do número de iterações. Vamos tentar confirmar essa tendência dos resultados produzidos de duas formas: visualmente e numericamente.\n",
    "\n",
    "Em termos visuais, podemos verificar a presença de correlação linear ao produzir um plot cujo eixo das abscissas representa as iterações e eixo das ordenadas, o tempo, produzido sobre a tabela de resultados ordenada em função do número de iterações e tomando o tempo como critério de desempate."
   ]
  },
  {
   "cell_type": "code",
   "execution_count": 23,
   "metadata": {},
   "outputs": [
    {
     "data": {
      "application/pdf": "[encoded data removed]",
      "text/plain": [
       "<Figure size 640x480 with 1 Axes>"
      ]
     },
     "metadata": {},
     "output_type": "display_data"
    }
   ],
   "source": [
    "figuraSAcorrelacao, pearsonSA = verifica_correlacao(recozimento_simulado, tabelaSA)"
   ]
  },
  {
   "cell_type": "markdown",
   "metadata": {},
   "source": [
    "Em termos numéricos, podemos verificar a presença de correlação linear ao utilizar o coeficiente de correlação estatística Pearson, que mede a presença de correlação linear em duas distribuições de valores. Quando o valor se aproxima de 1, tem-se uma forte correlação positiva; quando o valor se aproxima de -1, tem-se uma forte correlação negativa; e quando o valor se aproxima de 0, não há correlação linear."
   ]
  },
  {
   "cell_type": "code",
   "execution_count": 24,
   "metadata": {},
   "outputs": [
    {
     "name": "stdout",
     "output_type": "stream",
     "text": [
      "Coeficiente de correlação Pearson dos resultados de recozimento_simulado: 0.999\n"
     ]
    }
   ],
   "source": [
    "print(f\"Coeficiente de correlação Pearson dos resultados de recozimento_simulado: {np.round(pearsonSA, 3)}\")"
   ]
  },
  {
   "cell_type": "markdown",
   "metadata": {},
   "source": [
    "Tem-se constatada, portanto, uma forte correlação linear nos resultados apresentados. Vejamos algumas entradas da tabela de resultados, em que algumas soluções produzidas pelo algoritmo podem ser vistas."
   ]
  },
  {
   "cell_type": "code",
   "execution_count": 25,
   "metadata": {},
   "outputs": [
    {
     "data": {
      "text/html": [
       "<div>\n",
       "<style scoped>\n",
       "    .dataframe tbody tr th:only-of-type {\n",
       "        vertical-align: middle;\n",
       "    }\n",
       "\n",
       "    .dataframe tbody tr th {\n",
       "        vertical-align: top;\n",
       "    }\n",
       "\n",
       "    .dataframe thead th {\n",
       "        text-align: right;\n",
       "    }\n",
       "</style>\n",
       "<table border=\"1\" class=\"dataframe\">\n",
       "  <thead>\n",
       "    <tr style=\"text-align: right;\">\n",
       "      <th></th>\n",
       "      <th>Solução</th>\n",
       "      <th>Função-objetivo</th>\n",
       "      <th>Tempo (seg.)</th>\n",
       "      <th>Iterações</th>\n",
       "    </tr>\n",
       "  </thead>\n",
       "  <tbody>\n",
       "    <tr>\n",
       "      <th>0</th>\n",
       "      <td>[4, 7, 3, 0, 6, 1, 5, 2]</td>\n",
       "      <td>0</td>\n",
       "      <td>1.146536</td>\n",
       "      <td>966</td>\n",
       "    </tr>\n",
       "    <tr>\n",
       "      <th>1</th>\n",
       "      <td>[6, 1, 3, 0, 7, 4, 2, 5]</td>\n",
       "      <td>0</td>\n",
       "      <td>0.137411</td>\n",
       "      <td>122</td>\n",
       "    </tr>\n",
       "    <tr>\n",
       "      <th>2</th>\n",
       "      <td>[4, 1, 5, 0, 6, 3, 7, 2]</td>\n",
       "      <td>0</td>\n",
       "      <td>0.532156</td>\n",
       "      <td>442</td>\n",
       "    </tr>\n",
       "    <tr>\n",
       "      <th>3</th>\n",
       "      <td>[5, 2, 0, 7, 4, 1, 3, 6]</td>\n",
       "      <td>0</td>\n",
       "      <td>0.198749</td>\n",
       "      <td>176</td>\n",
       "    </tr>\n",
       "    <tr>\n",
       "      <th>4</th>\n",
       "      <td>[6, 3, 1, 7, 5, 0, 2, 4]</td>\n",
       "      <td>0</td>\n",
       "      <td>0.641228</td>\n",
       "      <td>553</td>\n",
       "    </tr>\n",
       "  </tbody>\n",
       "</table>\n",
       "</div>"
      ],
      "text/latex": [
       "\\begin{tabular}{llrrr}\n",
       "\\toprule\n",
       "{} &                   Solução &  Função-objetivo &  Tempo (seg.) &  Iterações \\\\\n",
       "\\midrule\n",
       "0 &  [4, 7, 3, 0, 6, 1, 5, 2] &                0 &      1.146536 &        966 \\\\\n",
       "1 &  [6, 1, 3, 0, 7, 4, 2, 5] &                0 &      0.137411 &        122 \\\\\n",
       "2 &  [4, 1, 5, 0, 6, 3, 7, 2] &                0 &      0.532156 &        442 \\\\\n",
       "3 &  [5, 2, 0, 7, 4, 1, 3, 6] &                0 &      0.198749 &        176 \\\\\n",
       "4 &  [6, 3, 1, 7, 5, 0, 2, 4] &                0 &      0.641228 &        553 \\\\\n",
       "\\bottomrule\n",
       "\\end{tabular}\n"
      ],
      "text/plain": [
       "                    Solução  Função-objetivo  Tempo (seg.)  Iterações\n",
       "0  [4, 7, 3, 0, 6, 1, 5, 2]                0      1.146536        966\n",
       "1  [6, 1, 3, 0, 7, 4, 2, 5]                0      0.137411        122\n",
       "2  [4, 1, 5, 0, 6, 3, 7, 2]                0      0.532156        442\n",
       "3  [5, 2, 0, 7, 4, 1, 3, 6]                0      0.198749        176\n",
       "4  [6, 3, 1, 7, 5, 0, 2, 4]                0      0.641228        553"
      ]
     },
     "execution_count": 25,
     "metadata": {},
     "output_type": "execute_result"
    }
   ],
   "source": [
    "tabelaSA.head(5)"
   ]
  },
  {
   "cell_type": "markdown",
   "metadata": {},
   "source": [
    "Por fim, vejamos algumas estatísticas obtidas a partir da tabela de resultados do SA."
   ]
  },
  {
   "cell_type": "code",
   "execution_count": 26,
   "metadata": {},
   "outputs": [
    {
     "name": "stdout",
     "output_type": "stream",
     "text": [
      "Média e desvio padrão da função-objetivo: 0.0 ± 0.0 ataques\n",
      "Média e desvio padrão do tempo gasto: 0.473 ± 0.423 segundos\n",
      "Média e desvio padrão das iterações gastas: 413.54 ± 374.86\n"
     ]
    }
   ],
   "source": [
    "print(f\"Média e desvio padrão da função-objetivo: {tabelaSA['Função-objetivo'].mean()} ± {tabelaSA['Função-objetivo'].std()} ataques\\n\"\n",
    "      f\"Média e desvio padrão do tempo gasto: {np.round(tabelaSA['Tempo (seg.)'].mean(), 3)} ± {np.round(tabelaSA['Tempo (seg.)'].std(), 3)} segundos\\n\"\n",
    "      f\"Média e desvio padrão das iterações gastas: {np.round(tabelaSA['Iterações'].mean(), 3)} ± {np.round(tabelaSA['Iterações'].std(), 3)}\")"
   ]
  },
  {
   "cell_type": "markdown",
   "metadata": {},
   "source": [
    "Nota-se que temos um desvio padrão no tempo e no número de iterações praticamente igual, respectivamente, ao tempo e ao número de iterações médios, o que demonstra uma significativa oscilação no número de iterações e no tempo entre execuções. Por um outro lado, tem-se que todas as execuções conseguiram encontrar uma solução ótima antes da temperatura chegar a zero."
   ]
  },
  {
   "cell_type": "markdown",
   "metadata": {},
   "source": [
    "## _Meta-heuristic_: _Genetic Algorithm_"
   ]
  },
  {
   "cell_type": "markdown",
   "metadata": {},
   "source": [
    "Para resolver a segunda questão, realizamos a implementação da meta-heurística _Genetic Algorithm_ (GA)."
   ]
  },
  {
   "cell_type": "markdown",
   "metadata": {},
   "source": [
    "### Implementação do GA"
   ]
  },
  {
   "cell_type": "markdown",
   "metadata": {},
   "source": [
    "Antes de seguirmos à resolução para as alíneas referentes a este algoritmo, definamos algumas funções."
   ]
  },
  {
   "cell_type": "markdown",
   "metadata": {},
   "source": [
    "#### Funções auxiliares ao GA"
   ]
  },
  {
   "cell_type": "markdown",
   "metadata": {},
   "source": [
    "Uma definição é necessária para auxiliar na exibição da evolução do algoritmo quando `verboso = True`."
   ]
  },
  {
   "cell_type": "code",
   "execution_count": 27,
   "metadata": {},
   "outputs": [],
   "source": [
    "def gera_contagem_populacao(populacao):\n",
    "    ataques = [tabuleiro.valor for tabuleiro in populacao]\n",
    "\n",
    "    colunas = np.unique(ataques)\n",
    "    indices = [\"Contagem\"]\n",
    "\n",
    "    contagem_de_valores = {ataque: 0 for ataque in colunas}\n",
    "\n",
    "    for ataque in ataques:\n",
    "        contagem_de_valores[ataque] += 1\n",
    "\n",
    "    data_frame = pd.DataFrame(contagem_de_valores, columns=colunas, index=indices)\n",
    "    data_frame.columns.names = [\"Ataques\"]\n",
    "\n",
    "    return data_frame"
   ]
  },
  {
   "cell_type": "markdown",
   "metadata": {},
   "source": [
    "Em adição, uma função é requerida para inicializar a população."
   ]
  },
  {
   "cell_type": "code",
   "execution_count": 28,
   "metadata": {},
   "outputs": [],
   "source": [
    "def inicializa_populacao(tamanho_populacao):\n",
    "    populacao = [Tabuleiro(binario=True) for _ in range(tamanho_populacao)]\n",
    "\n",
    "    return sorted(populacao)"
   ]
  },
  {
   "cell_type": "markdown",
   "metadata": {},
   "source": [
    "Em seguida, definições que aplicam os operadores evolucionários são necessárias."
   ]
  },
  {
   "cell_type": "code",
   "execution_count": 29,
   "metadata": {},
   "outputs": [],
   "source": [
    "def selecao_dos_pais(populacao, tamanho_ringue):\n",
    "    nova_populacao, tamanho_populacao = [], len(populacao)\n",
    "\n",
    "    for _ in range(tamanho_populacao):\n",
    "        lutadores = r.sample(populacao, tamanho_ringue)\n",
    "        lutadores = sorted(lutadores)\n",
    "\n",
    "        nova_populacao.append(lutadores[0])\n",
    "\n",
    "    return nova_populacao"
   ]
  },
  {
   "cell_type": "code",
   "execution_count": 30,
   "metadata": {},
   "outputs": [],
   "source": [
    "def cruzamento(populacao, taxa_crossover):\n",
    "    nova_populacao, tamanho_populacao = [], len(populacao)\n",
    "    n_rodadas = np.ceil(tamanho_populacao / 2).astype(np.int_)\n",
    "\n",
    "    for _ in range(n_rodadas):\n",
    "        pai1, pai2 = r.sample(populacao, 2)\n",
    "        pai1, pai2 = pai1.rainhas, pai2.rainhas\n",
    "\n",
    "        if np.random.uniform() <= taxa_crossover:\n",
    "            corte = r.randint(1, len(pai1) - 1)\n",
    "\n",
    "            filho1 = np.concatenate((pai1[:corte], pai2[corte:]))\n",
    "            filho2 = np.concatenate((pai2[:corte], pai1[corte:]))\n",
    "        else:\n",
    "            filho1, filho2 = pai1, pai2\n",
    "\n",
    "        filho1, filho2 = Tabuleiro(binario=True, rainhas=filho1), Tabuleiro(binario=True, rainhas=filho2)\n",
    "\n",
    "        if tamanho_populacao - len(nova_populacao) >= 2:\n",
    "            nova_populacao.extend([filho1, filho2])\n",
    "        else:\n",
    "            nova_populacao.append(filho1 if np.random.uniform() <= .5 else filho2)\n",
    "\n",
    "    return nova_populacao"
   ]
  },
  {
   "cell_type": "code",
   "execution_count": 31,
   "metadata": {},
   "outputs": [],
   "source": [
    "def mutacao(populacao, taxa_mutacao):\n",
    "    nova_populacao, tamanho_populacao = [], len(populacao)\n",
    "\n",
    "    for i in range(tamanho_populacao):\n",
    "        rainhas = populacao[i].rainhas\n",
    "\n",
    "        for bit in range(rainhas.ravel().shape[0]):\n",
    "            if np.random.uniform() <= taxa_mutacao:\n",
    "                rainhas.ravel()[bit] = not rainhas.ravel()[bit]\n",
    "\n",
    "        novo_tabuleiro = Tabuleiro(binario=True, rainhas=rainhas)\n",
    "\n",
    "        nova_populacao.append(novo_tabuleiro)\n",
    "\n",
    "    return nova_populacao"
   ]
  },
  {
   "cell_type": "code",
   "execution_count": 32,
   "metadata": {},
   "outputs": [],
   "source": [
    "def seleciona_sobreviventes(populacao, nova_populacao):\n",
    "    sobreviventes = sorted(populacao + nova_populacao)\n",
    "\n",
    "    return sobreviventes[:len(populacao)]"
   ]
  },
  {
   "cell_type": "markdown",
   "metadata": {},
   "source": [
    "Em seguida, uma função que assegura que os filhos estão respeitando as heurísticas estipuladas (nenhuma rainha na mesma linha) é definida."
   ]
  },
  {
   "cell_type": "code",
   "execution_count": 33,
   "metadata": {},
   "outputs": [],
   "source": [
    "def gera_filhos_validos(pais, taxa_crossover, taxa_mutacao):\n",
    "    filhos, tamanho_populacao = [], len(pais)\n",
    "\n",
    "    while len(filhos) < tamanho_populacao:\n",
    "        embrioes = cruzamento(pais, taxa_crossover)\n",
    "        fetos = mutacao(embrioes, taxa_mutacao)\n",
    "\n",
    "        for feto in fetos:\n",
    "            if len(filhos) < tamanho_populacao:\n",
    "                if feto.ha_rainhas_na_mesma_linha is False:\n",
    "                    filhos.append(feto)\n",
    "            else:\n",
    "                break\n",
    "\n",
    "    return filhos"
   ]
  },
  {
   "cell_type": "markdown",
   "metadata": {},
   "source": [
    "Por fim, uma solução que gera a nova população é definida."
   ]
  },
  {
   "cell_type": "code",
   "execution_count": 34,
   "metadata": {},
   "outputs": [],
   "source": [
    "def gera_nova_populacao(populacao, taxa_crossover, taxa_mutacao, tamanho_ringue):\n",
    "    pais = selecao_dos_pais(populacao, tamanho_ringue)\n",
    "    filhos = gera_filhos_validos(pais, taxa_crossover, taxa_mutacao)\n",
    "\n",
    "    return sorted(filhos)"
   ]
  },
  {
   "cell_type": "markdown",
   "metadata": {},
   "source": [
    "#### Algoritmo principal GA"
   ]
  },
  {
   "cell_type": "markdown",
   "metadata": {},
   "source": [
    "Com base nas definições acima, definamos agora o algoritmo principal."
   ]
  },
  {
   "cell_type": "code",
   "execution_count": 35,
   "metadata": {},
   "outputs": [],
   "source": [
    "def algoritmo_genetico(tamanho_populacao=20, max_iteracoes=1000, taxa_mutacao=.03, taxa_crossover=.8, tamanho_ringue=3, verboso=False):\n",
    "    tamanho_populacao = verifica_tipo(tamanho_populacao=(tamanho_populacao, \"parâmetro\", t.SupportsInt))\n",
    "    max_iteracoes = verifica_tipo(max_iteracoes=(max_iteracoes, \"parâmetro\", t.SupportsInt))\n",
    "    taxa_mutacao = verifica_tipo(taxa_mutacao=(taxa_mutacao, \"parâmetro\", t.SupportsFloat))\n",
    "    taxa_crossover = verifica_tipo(taxa_crossover=(taxa_crossover, \"parâmetro\", t.SupportsFloat))\n",
    "    tamanho_ringue = verifica_tipo(tamanho_do_ringue=(tamanho_ringue, \"parâmetro\", t.SupportsInt))\n",
    "    verboso = verifica_tipo(verboso=(verboso, \"parâmetro\", (bool, np.bool_)))\n",
    "\n",
    "    verifica_nao_negatividade(tamanho_populacao=(tamanho_populacao, \"parâmetro\"), max_iteracoes=(max_iteracoes, \"parâmetro\"), taxa_mutacao=(taxa_mutacao, \"parâmetro\"), taxa_crossover=(taxa_crossover, \"parâmetro\"), tamanho_ringue=(tamanho_ringue, \"parâmetro\"))\n",
    "    verifica_menor_ou_igual_a(taxa_mutacao=(taxa_mutacao, \"parâmetro\"), valor=(1, \"valor\"))\n",
    "    verifica_menor_ou_igual_a(taxa_mutacao=(taxa_crossover, \"parâmetro\"), valor=(1, \"valor\"))\n",
    "    verifica_menor_ou_igual_a(tamanho_ringue=(tamanho_ringue, \"parâmetro\"), tamanho_populacao=(tamanho_populacao, \"parâmetro\"))\n",
    "\n",
    "    pais = inicializa_populacao(tamanho_populacao)\n",
    "    iteracao = 0\n",
    "\n",
    "    if verboso is True:\n",
    "        print(f\"[Iteração {iteracao}] População inicial: \\n\"\n",
    "              f\"{gera_contagem_populacao(pais)}\", end=\"\\n\\n\")\n",
    "\n",
    "    while iteracao < max_iteracoes:\n",
    "        if pais[0].valor == 0:\n",
    "            if verboso is True:\n",
    "                print(\"Uma solução ótima foi encontrada.\")\n",
    "\n",
    "            break\n",
    "\n",
    "        filhos = gera_nova_populacao(pais, taxa_crossover, taxa_mutacao, tamanho_ringue)\n",
    "        pais = seleciona_sobreviventes(pais, filhos)\n",
    "        iteracao += 1\n",
    "\n",
    "        if verboso is True:\n",
    "            print(f\"[Iteração {iteracao}]\\n\"\n",
    "                  f\"Filhos: \\n\"\n",
    "                  f\"{gera_contagem_populacao(filhos)}\\n\\n\"\n",
    "                  f\"Sobreviventes: \\n\"\n",
    "                  f\"{gera_contagem_populacao(pais)}\", end=\"\\n\\n\")\n",
    "\n",
    "    if iteracao >= max_iteracoes and verboso is True:\n",
    "        print(\"O número máximo de iterações foi atingido.\")\n",
    "\n",
    "    return pais[0], iteracao"
   ]
  },
  {
   "cell_type": "markdown",
   "metadata": {},
   "source": [
    "Nesta implementação, começa-se com a inicialização de uma população de instâncias da classe `Tabuleiro`. A cada rodada, os operadores genéticos são aplicados na população, gerando filhos. Isso se dá na função `gera_nova_populacao()`. \n",
    "\n",
    "A função `gera_nova_populacao()` não se restringe à aplicação dos operadores, no entanto: ela também descarta os filhos que possuem rainhas na mesma linha, assegurando o cumprimento das heurísticas que adotamos globalmente. Dessa forma, nenhuma solução pode ter rainhas na mesma linha nem na mesma coluna.\n",
    "\n",
    "Por fim, a população de filhos é concatenada à de pais (gerando um vetor com o dobro do valor `tamanho_população`) e tem-se um processo de seleção de sobreviventes elitista, em que apenas as melhores soluções entre os pais e filhos é preservada (para isso, ordena-se o vetor filhos+pais e seleciona-se apenas os melhores `tamanho_populacao` elementos).\n",
    "\n",
    "O algoritmo cessa sua execução quando atinge o número máximo de execuções ou quando o valor de alguma solução é igual a 0 (o que indica que o número de ataques do tabuleiro é igual a 0), retornando a solução atual."
   ]
  },
  {
   "cell_type": "markdown",
   "metadata": {},
   "source": [
    "### Operadores do GA"
   ]
  },
  {
   "cell_type": "markdown",
   "metadata": {},
   "source": [
    "Descrevamos, agora, os operadores deste GA. É importante lembrar que, em função das estipulações da atividade proposta, apenas a implementação dos operadores de seleção dos pais, cruzamento e mutação ficaram a critério dos projetistas.\n",
    "\n",
    "- Para a **seleção dos pais**, utilizou-se a técnica **_n-Way Tournament Selection_**, em que são selecionados _n_ indivíduos aleatórios da população para \"lutar\" entre si, ganhando o que tiver melhor _fitness_. Adotamos `n = 3`. Os torneios ocorrem até que uma população de mesmo tamanho à original seja produzida (e.g., uma população de 50 indivíduos gerará uma _mating pool_ de 50 possíveis pais).\n",
    "- Para o **cruzamento**, utilizou-se a técnica de **cruzamento com ponto de corte aleatório**. Nessa técnica, dois indivíduos são aleatoriamente selecionados da população de pais (podendo haver repetição). Uma posição aleatória _c_ é escolhida como ponto de corte. Quando a taxa de _crossover_ não é ultrapassada, corta-se o vetor do pai 1 da posição inicial até a posição _c_ e o vetor do pai 2 de _c_ até a última posição. Os cortes são concatenados gerando o filho 1, e o restante dos vetores \"cortados\" também são concatenados para gerar o filho 2. Caso a taxa de crossover seja ultrapassada, os pais tornam-se os filhos. Esse processo se repete até que uma população de mesmo tamanho à original seja produzida.\n",
    "- Para a **mutação**, utilizou-se a técnica de **_bit flip_**. Nessa técnica, há um teste para cada bit de cada solução, tal que se o número aleatório gerado for inferior ao da taxa de mutação, um bit `False` é transformado em um bit `True` e vice-versa."
   ]
  },
  {
   "cell_type": "markdown",
   "metadata": {},
   "source": [
    "### Resultados do GA"
   ]
  },
  {
   "cell_type": "code",
   "execution_count": 36,
   "metadata": {},
   "outputs": [
    {
     "name": "stdout",
     "output_type": "stream",
     "text": [
      "Execução concluída.\n"
     ]
    },
    {
     "data": {
      "application/pdf": "[encoded data removed]",
      "text/plain": [
       "<Figure size 1000x500 with 2 Axes>"
      ]
     },
     "metadata": {},
     "output_type": "display_data"
    }
   ],
   "source": [
    "tabelaGA, figuraGA = executa_experimento(algoritmo_genetico)"
   ]
  },
  {
   "cell_type": "markdown",
   "metadata": {},
   "source": [
    "Este gráfico, similarmente ao primeiro, consiste no detalhamento da execução do algoritmo `algoritmo_genetico()`. À esquerda, tem-se o número de iterações por execução; à direita, o tempo por execução em segundos. À primeira vista, a semelhança entre o comportamento dos dois plots não é tão visível; contudo, nota-se que a escala do número de iterações e do tempo em segundos é parecida. Vamos tentar verificar a existência de correlação linear nos resultados produzidos. Fá-lo-emos, assim como ocorreu com o SA, de duas formas: visualmente e numericamente.\n",
    "\n",
    "Em termos visuais, podemos verificar a presença de correlação linear ao produzir um plot cujo eixo das abscissas representa as iterações e eixo das ordenadas, o tempo, produzido sobre a tabela de resultados ordenada em função do número de iterações e tomando o tempo como critério de desempate."
   ]
  },
  {
   "cell_type": "code",
   "execution_count": 37,
   "metadata": {},
   "outputs": [
    {
     "data": {
      "application/pdf": "[encoded data removed]",
      "text/plain": [
       "<Figure size 640x480 with 1 Axes>"
      ]
     },
     "metadata": {},
     "output_type": "display_data"
    }
   ],
   "source": [
    "figuraGAcorrelacao, pearsonGA = verifica_correlacao(algoritmo_genetico, tabelaGA)"
   ]
  },
  {
   "cell_type": "markdown",
   "metadata": {},
   "source": [
    "Em termos numéricos, podemos verificar a presença de correlação linear ao utilizar o coeficiente de correlação estatística Pearson, que mede a presença de correlação linear em duas distribuições de valores. Quando o valor se aproxima de 1, tem-se uma forte correlação positiva; quando o valor se aproxima de -1, tem-se uma forte correlação negativa; e quando o valor se aproxima de 0, não há correlação linear."
   ]
  },
  {
   "cell_type": "code",
   "execution_count": 38,
   "metadata": {},
   "outputs": [
    {
     "name": "stdout",
     "output_type": "stream",
     "text": [
      "Coeficiente de correlação Pearson dos resultados de algoritmo_genetico: 0.938\n"
     ]
    }
   ],
   "source": [
    "print(f\"Coeficiente de correlação Pearson dos resultados de algoritmo_genetico: {np.round(pearsonGA, 3)}\")"
   ]
  },
  {
   "cell_type": "markdown",
   "metadata": {},
   "source": [
    "Tem-se constatada, portanto, uma forte correlação linear nos resultados apresentados, embora menor do que a vista no SA. É importante observar, no entanto, que o número de iterações médio que o GA percorre antes de chegar a uma solução é pequeno, o que talvez faça com que os valores obtidos não retratem adequadamente a natureza assintótica do algoritmo.\n",
    "\n",
    "Vejamos algumas entradas da tabela de resultados, em que algumas soluções produzidas pelo algoritmo podem ser vistas."
   ]
  },
  {
   "cell_type": "code",
   "execution_count": 39,
   "metadata": {},
   "outputs": [
    {
     "data": {
      "text/html": [
       "<div>\n",
       "<style scoped>\n",
       "    .dataframe tbody tr th:only-of-type {\n",
       "        vertical-align: middle;\n",
       "    }\n",
       "\n",
       "    .dataframe tbody tr th {\n",
       "        vertical-align: top;\n",
       "    }\n",
       "\n",
       "    .dataframe thead th {\n",
       "        text-align: right;\n",
       "    }\n",
       "</style>\n",
       "<table border=\"1\" class=\"dataframe\">\n",
       "  <thead>\n",
       "    <tr style=\"text-align: right;\">\n",
       "      <th></th>\n",
       "      <th>Solução</th>\n",
       "      <th>Função-objetivo</th>\n",
       "      <th>Tempo (seg.)</th>\n",
       "      <th>Iterações</th>\n",
       "    </tr>\n",
       "  </thead>\n",
       "  <tbody>\n",
       "    <tr>\n",
       "      <th>0</th>\n",
       "      <td>[0001, 1110, 0010, 1000, 1111, 1100, 0011, 0101]</td>\n",
       "      <td>0</td>\n",
       "      <td>6.771592</td>\n",
       "      <td>7</td>\n",
       "    </tr>\n",
       "    <tr>\n",
       "      <th>1</th>\n",
       "      <td>[0111, 1001, 0100, 0110, 0001, 1011, 0010, 1000]</td>\n",
       "      <td>0</td>\n",
       "      <td>2.788667</td>\n",
       "      <td>2</td>\n",
       "    </tr>\n",
       "    <tr>\n",
       "      <th>2</th>\n",
       "      <td>[1110, 0100, 0010, 0101, 0011, 0110, 0000, 1100]</td>\n",
       "      <td>0</td>\n",
       "      <td>5.925902</td>\n",
       "      <td>7</td>\n",
       "    </tr>\n",
       "    <tr>\n",
       "      <th>3</th>\n",
       "      <td>[0101, 0001, 1110, 1100, 0111, 0010, 0000, 0011]</td>\n",
       "      <td>0</td>\n",
       "      <td>2.983216</td>\n",
       "      <td>2</td>\n",
       "    </tr>\n",
       "    <tr>\n",
       "      <th>4</th>\n",
       "      <td>[0100, 0010, 1110, 0011, 0001, 0111, 0101, 0000]</td>\n",
       "      <td>0</td>\n",
       "      <td>4.152954</td>\n",
       "      <td>4</td>\n",
       "    </tr>\n",
       "  </tbody>\n",
       "</table>\n",
       "</div>"
      ],
      "text/latex": [
       "\\begin{tabular}{llrrr}\n",
       "\\toprule\n",
       "{} &                                           Solução &  Função-objetivo &  Tempo (seg.) &  Iterações \\\\\n",
       "\\midrule\n",
       "0 &  [0001, 1110, 0010, 1000, 1111, 1100, 0011, 0101] &                0 &      6.771592 &          7 \\\\\n",
       "1 &  [0111, 1001, 0100, 0110, 0001, 1011, 0010, 1000] &                0 &      2.788667 &          2 \\\\\n",
       "2 &  [1110, 0100, 0010, 0101, 0011, 0110, 0000, 1100] &                0 &      5.925902 &          7 \\\\\n",
       "3 &  [0101, 0001, 1110, 1100, 0111, 0010, 0000, 0011] &                0 &      2.983216 &          2 \\\\\n",
       "4 &  [0100, 0010, 1110, 0011, 0001, 0111, 0101, 0000] &                0 &      4.152954 &          4 \\\\\n",
       "\\bottomrule\n",
       "\\end{tabular}\n"
      ],
      "text/plain": [
       "                                            Solução  Função-objetivo  \\\n",
       "0  [0001, 1110, 0010, 1000, 1111, 1100, 0011, 0101]                0   \n",
       "1  [0111, 1001, 0100, 0110, 0001, 1011, 0010, 1000]                0   \n",
       "2  [1110, 0100, 0010, 0101, 0011, 0110, 0000, 1100]                0   \n",
       "3  [0101, 0001, 1110, 1100, 0111, 0010, 0000, 0011]                0   \n",
       "4  [0100, 0010, 1110, 0011, 0001, 0111, 0101, 0000]                0   \n",
       "\n",
       "   Tempo (seg.)  Iterações  \n",
       "0      6.771592          7  \n",
       "1      2.788667          2  \n",
       "2      5.925902          7  \n",
       "3      2.983216          2  \n",
       "4      4.152954          4  "
      ]
     },
     "execution_count": 39,
     "metadata": {},
     "output_type": "execute_result"
    }
   ],
   "source": [
    "tabelaGA.head(5)"
   ]
  },
  {
   "cell_type": "markdown",
   "metadata": {},
   "source": [
    "Por fim, vejamos algumas estatísticas obtidas a partir da tabela de resultados do GA."
   ]
  },
  {
   "cell_type": "code",
   "execution_count": 40,
   "metadata": {},
   "outputs": [
    {
     "name": "stdout",
     "output_type": "stream",
     "text": [
      "Média e desvio padrão da função-objetivo: 0.0 ± 0.0 ataques\n",
      "Média e desvio padrão do tempo gasto: 3.441 ± 1.487 segundos\n",
      "Média e desvio padrão das iterações gastas: 2.96 ± 1.628\n"
     ]
    }
   ],
   "source": [
    "print(f\"Média e desvio padrão da função-objetivo: {tabelaGA['Função-objetivo'].mean()} ± {tabelaGA['Função-objetivo'].std()} ataques\\n\"\n",
    "      f\"Média e desvio padrão do tempo gasto: {np.round(tabelaGA['Tempo (seg.)'].mean(), 3)} ± {np.round(tabelaGA['Tempo (seg.)'].std(), 3)} segundos\\n\"\n",
    "      f\"Média e desvio padrão das iterações gastas: {np.round(tabelaGA['Iterações'].mean(), 3)} ± {np.round(tabelaGA['Iterações'].std(), 3)}\")"
   ]
  },
  {
   "cell_type": "markdown",
   "metadata": {},
   "source": [
    "Diferentemente do visto no SA, o número de iterações é muito menor. Contudo, em função da aplicação de operadores inexistentes no SA, tem-se que o tempo de execução médio é aproximadamente de cinco a seis vezes maior, com um desvio correspondente a aproximados 50% deste valor. Esses fatos servem de subsídio para afirmar que este algoritmo, a despeito de definitivamente possuir fatores estocásticos, é mais estável do que o SA em termos de tempo de execução e número de iterações."
   ]
  },
  {
   "cell_type": "markdown",
   "metadata": {},
   "source": [
    "# Considerações finais"
   ]
  },
  {
   "cell_type": "markdown",
   "metadata": {},
   "source": [
    "Com base no exposto acima, tem-se que o problema das oito rainhas foi resolvido de forma ótima por dois algoritmos: _simulated annealing_ e _genetic algorithm_. Os dois algoritmos se valem da classe `Tabuleiro`, que concentra a modelagem do problema, para desempenhar suas rotinas. Ambos os algoritmos, com a ajuda das heurísticas implementadas pelos projetistas, foram capazes de encontrar uma solução ótima em todas as suas execuções. Cumpre mencionar que todas as implementações ora expostas foram desenvolvidas almejando total concordância com o estipulado no documento que descreve a atividade.\n",
    "\n",
    "Durante a exposição dos resultados, foram realizadas análises para verificar a existência de correlação linear entre o número de iterações utilizado e o tempo gasto na execução de ambos os algoritmos. Constatou-se que tanto o recozimento simulado quanto o algoritmo genético implementados possuem forte correlação linear nesse sentido, com especial destaque para o SA.\n",
    "\n",
    "Em adição, como produtos oriundos da resolução dessas atividades, tem-se algoritmos flexíveis e uma modelagem do problema escalável: a classe `Tabuleiro` foi projetada de forma a suportar diferentes notações e números variados de rainhas e casas no tabuleiro, tal que variações do problema podem ser testadas com alterações mínimas nos algoritmos. Dessa forma, esta base de código pode ser facilmente reciclada para propósitos correlatos."
   ]
  },
  {
   "cell_type": "code",
   "execution_count": null,
   "metadata": {},
   "outputs": [],
   "source": []
  }
 ],
 "metadata": {
  "kernelspec": {
   "display_name": "Python 3",
   "language": "python",
   "name": "python3"
  },
  "language_info": {
   "codemirror_mode": {
    "name": "ipython",
    "version": 3
   },
   "file_extension": ".py",
   "mimetype": "text/x-python",
   "name": "python",
   "nbconvert_exporter": "python",
   "pygments_lexer": "ipython3",
   "version": "3.9.0"
  }
 },
 "nbformat": 4,
 "nbformat_minor": 4
}
