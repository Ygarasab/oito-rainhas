{
 "cells": [
  {
   "cell_type": "markdown",
   "metadata": {},
   "source": [
    "# Trabalho 1 - Algoritmos de Busca\n",
    "Este trabalho é referente à disciplina de Inteligência Artificial do curso de Bacharelado em Ciência da Computação na Universidade Federal do Pará. Ele propõe a implementação de uma versão do algoritmo **_Stochastic Hill Climbing_** e do **_algoritmo genético_** para a resolução do **problema das oito rainhas**.\n",
    "\n",
    "Integrantes:\n",
    "- Eduardo Gil Serrão Cardoso - 201804940002\n",
    "- Gabriela Souza Maximino - 201804940016\n",
    "- Igor Matheus Souza Moreira - 201804940007\n",
    "\n",
    "As questões propostas pelo trabalho são descritas abaixo."
   ]
  },
  {
   "cell_type": "markdown",
   "metadata": {},
   "source": [
    "## 1ª questão - _Stochastic Hill Climbing: Simulated Annealing_"
   ]
  },
  {
   "cell_type": "markdown",
   "metadata": {},
   "source": [
    "### a) Descreva a função objetivo utilizada na modelagem do problema.\n",
    "A função objetivo utilizada verifica a existência de ataques de rainhas no tabuleiro na horizontal e na diagonal. Sua representação é mostrada abaixo:\n",
    "\n",
    "`ha_ataque_horizontal = rainhas[indice_a] == rainhas[indice_b]`\n",
    "\n",
    "`ha_ataque_diagonal = (indice_b - indice_a) == abs(rainhas[indice_b] - rainhas[indice_a])`\n",
    "\n",
    "Dado que o tabuleiro é representado por um vetor com _n_ elementos, em que o valor de cada elemento da posição _i_ representa a linha onde a rainha se encontra nessa mesma coluna, percorre-se esse vetor varrendo para cada elemento da posição _indice_a_ os elementos seguintes que estão na posição _indice_b_. Caso algum tipo de ataque seja detectado, soma-se 1 ao valor do tabuleiro."
   ]
  },
  {
   "cell_type": "markdown",
   "metadata": {},
   "source": [
    "### b) Descreva a codificação utilizada para a solução candidata.\n",
    "Para esse algoritmo, utilizou-se a codificação binária, podendo ser utilizada também a decimal. "
   ]
  },
  {
   "cell_type": "markdown",
   "metadata": {},
   "source": [
    "### c) Descreva a(s) heurística(s) e o(s) critério(s) de parada utilizados pelo algoritmo.\n",
    "Foi utilizada a heurística de que as rainhas não podem estar em uma mesma coluna. \n",
    "\n",
    "Para a parada, adotou-se dois critérios: \n",
    "1) percorrer todo o vetor de _arrays_ de temperaturas, cujo tamanho depende da temperatura inicial e variação;  \n",
    "2) o valor mínimo da função objetivo (0) for alcançado."
   ]
  },
  {
   "cell_type": "markdown",
   "metadata": {},
   "source": [
    "### d) Execute 50 vezes o algoritmo e calcule: média e desvio padrão do número mínimo de iterações necessário para parar o algoritmo; média e desvio padrão do tempo de execução do algoritmo"
   ]
  },
  {
   "cell_type": "markdown",
   "metadata": {},
   "source": [
    "### e) Construa dois gráficos:\n",
    "- Plotar a curva com número mínimo de iterações de cada execução.\n",
    "\n",
    "\n",
    "- Plotar a curva com o tempo de execução do algoritmo de cada execução"
   ]
  },
  {
   "cell_type": "markdown",
   "metadata": {},
   "source": [
    "### f) Mostre, pelo menos, duas soluções distintas encontradas pelo algoritmo."
   ]
  },
  {
   "cell_type": "markdown",
   "metadata": {},
   "source": [
    "### g) Comente e mostre o código fonte do algoritmo desenvolvido.\n"
   ]
  },
  {
   "cell_type": "markdown",
   "metadata": {},
   "source": [
    "## 2ª questão - _Algoritmo genético_"
   ]
  },
  {
   "cell_type": "markdown",
   "metadata": {},
   "source": [
    "### a) Descreva a função objetivo utilizada na modelagem do problema.\n",
    "A função objetivo utilizada é a mesma do algoritmo anterior, uma vez que essa função foi definida na classe Tabuleiro, utilizada por ambos os algoritmos."
   ]
  },
  {
   "cell_type": "markdown",
   "metadata": {},
   "source": [
    "### b) Apresente a escolha e explique o funcionamento dos operadores que foram utilizados: seleção dos pais, cruzamento e mutação.\n",
    "\n",
    "- Para a **seleção dos pais**, utilizou-se a técnica **_n-Way Tournament Selection_**, em que são selecionados _n_ indivíduos aleatórios da população para \"lutar\" entre si, ganhando o que tiver melhor _fitness_. Por padrão, _n_ é definido como 3. O torneio acontece duas vezes: uma para selecionar o primeiro pai e a segunda para selecionar o segundo.\n",
    "\n",
    "\n",
    "- Para o **cruzamento**, utilizou-se a técnica de **cruzamento com ponto de corte aleatório**. Nessa técnica, uma posição aleatória _c_ do vetor é escolhida como ponto de corte. Quando a taxa de _crossover_ não é ultrapassada, corta-se o vetor do pai 1 da posição inicial até a posição _c_ e o vetor do pai 2 de _c_ até a última posição. Os cortes são concatenados gerando o filho 1, e o restante dos vetores \"cortados\" também são concatenados para gerar o filho 2. Caso a taxa de crossover seja ultrapassada, os pais tornam-se os filhos.\n",
    "\n",
    "\n",
    "- Para a **mutação**, utilizou-se a técnica de **mutação com permutação aleatória**. Nessa técnica, duas posições do vetor são escolhidas aleatoriamente para serem permutadas, caso a taxa de mutação não seja ultrapassa. Caso seja, a mutação não ocorre."
   ]
  },
  {
   "cell_type": "markdown",
   "metadata": {},
   "source": [
    "### c) Execute 50 vezes o algoritmo e apresente, em forma de tabela, a melhor solução encontrada em cada execução, o valor da função objetivo desta solução encontrada, o tempo de execução e o número da geração em que o algoritmo parou."
   ]
  },
  {
   "cell_type": "markdown",
   "metadata": {},
   "source": [
    "### d) Calcular a média e o desvio padrão do valor da função objetivo do melhor indivíduo, do tempo de execução e o número da geração em que o algoritmo parou (três últimas colunas da tabela)."
   ]
  },
  {
   "cell_type": "markdown",
   "metadata": {},
   "source": [
    "### e) Mostre, pelo menos, duas soluções distintas encontradas pelo algoritmo.\n"
   ]
  },
  {
   "cell_type": "markdown",
   "metadata": {},
   "source": [
    "### f) Comente e mostre o código fonte do algoritmo desenvolvido.\n"
   ]
  }
 ],
 "metadata": {
  "kernelspec": {
   "display_name": "Python 3",
   "language": "python",
   "name": "python3"
  },
  "language_info": {
   "codemirror_mode": {
    "name": "ipython",
    "version": 3
   },
   "file_extension": ".py",
   "mimetype": "text/x-python",
   "name": "python",
   "nbconvert_exporter": "python",
   "pygments_lexer": "ipython3",
   "version": "3.9.0"
  }
 },
 "nbformat": 4,
 "nbformat_minor": 4
}
